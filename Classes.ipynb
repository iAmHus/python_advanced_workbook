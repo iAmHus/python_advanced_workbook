{
 "cells": [
  {
   "cell_type": "code",
   "id": "initial_id",
   "metadata": {
    "collapsed": true,
    "ExecuteTime": {
     "end_time": "2025-02-08T04:10:56.758652Z",
     "start_time": "2025-02-08T04:10:56.753688Z"
    }
   },
   "source": "# class",
   "outputs": [],
   "execution_count": 1
  },
  {
   "metadata": {
    "ExecuteTime": {
     "end_time": "2025-02-08T04:11:50.080450Z",
     "start_time": "2025-02-08T04:11:50.077001Z"
    }
   },
   "cell_type": "code",
   "source": [
    "class OneClass:\n",
    "    first = 10\n",
    "    second = 20\n"
   ],
   "id": "6742cc7e1857c444",
   "outputs": [],
   "execution_count": 4
  },
  {
   "metadata": {
    "ExecuteTime": {
     "end_time": "2025-02-08T04:11:50.736189Z",
     "start_time": "2025-02-08T04:11:50.733157Z"
    }
   },
   "cell_type": "code",
   "source": "oneClass = OneClass()",
   "id": "6d80e4e2d29099af",
   "outputs": [],
   "execution_count": 5
  },
  {
   "metadata": {
    "ExecuteTime": {
     "end_time": "2025-02-08T04:11:56.082440Z",
     "start_time": "2025-02-08T04:11:56.075429Z"
    }
   },
   "cell_type": "code",
   "source": "oneClass.__dict__",
   "id": "1b8e7dd419eb3cc3",
   "outputs": [
    {
     "data": {
      "text/plain": [
       "{}"
      ]
     },
     "execution_count": 6,
     "metadata": {},
     "output_type": "execute_result"
    }
   ],
   "execution_count": 6
  },
  {
   "metadata": {
    "ExecuteTime": {
     "end_time": "2025-02-08T04:13:08.531676Z",
     "start_time": "2025-02-08T04:13:08.526399Z"
    }
   },
   "cell_type": "code",
   "source": "OneClass.__dict__",
   "id": "528809fdc56185ae",
   "outputs": [
    {
     "data": {
      "text/plain": [
       "mappingproxy({'__module__': '__main__',\n",
       "              'first': 10,\n",
       "              'second': 20,\n",
       "              '__dict__': <attribute '__dict__' of 'OneClass' objects>,\n",
       "              '__weakref__': <attribute '__weakref__' of 'OneClass' objects>,\n",
       "              '__doc__': None})"
      ]
     },
     "execution_count": 7,
     "metadata": {},
     "output_type": "execute_result"
    }
   ],
   "execution_count": 7
  },
  {
   "metadata": {
    "ExecuteTime": {
     "end_time": "2025-02-08T04:19:15.989983Z",
     "start_time": "2025-02-08T04:19:15.986134Z"
    }
   },
   "cell_type": "code",
   "source": "setattr(OneClass, 'x', 10)",
   "id": "7cb287a2c8e930f1",
   "outputs": [],
   "execution_count": 8
  },
  {
   "metadata": {
    "ExecuteTime": {
     "end_time": "2025-02-08T04:19:22.868726Z",
     "start_time": "2025-02-08T04:19:22.863120Z"
    }
   },
   "cell_type": "code",
   "source": "OneClass.__dict__",
   "id": "66208e69b98c2ee8",
   "outputs": [
    {
     "data": {
      "text/plain": [
       "mappingproxy({'__module__': '__main__',\n",
       "              'first': 10,\n",
       "              'second': 20,\n",
       "              '__dict__': <attribute '__dict__' of 'OneClass' objects>,\n",
       "              '__weakref__': <attribute '__weakref__' of 'OneClass' objects>,\n",
       "              '__doc__': None,\n",
       "              'x': 10})"
      ]
     },
     "execution_count": 9,
     "metadata": {},
     "output_type": "execute_result"
    }
   ],
   "execution_count": 9
  },
  {
   "metadata": {
    "ExecuteTime": {
     "end_time": "2025-02-09T02:43:00.670609Z",
     "start_time": "2025-02-09T02:43:00.667709Z"
    }
   },
   "cell_type": "code",
   "source": "# property - basic ops",
   "id": "58157febc487ac1f",
   "outputs": [],
   "execution_count": 10
  },
  {
   "metadata": {
    "ExecuteTime": {
     "end_time": "2025-02-09T02:58:29.503144Z",
     "start_time": "2025-02-09T02:58:29.498529Z"
    }
   },
   "cell_type": "code",
   "source": [
    "class TestClass:\n",
    "    def __init__(self, env):\n",
    "        self._env = env\n",
    "\n",
    "    def set_env(self, env):\n",
    "        self._env = env\n",
    "\n",
    "    def get_env(self):\n",
    "        return self._env\n",
    "\n",
    "    env = property(fget=get_env, fset=set_env)\n"
   ],
   "id": "b9676eb984ab0104",
   "outputs": [],
   "execution_count": 13
  },
  {
   "metadata": {
    "ExecuteTime": {
     "end_time": "2025-02-09T02:58:38.502730Z",
     "start_time": "2025-02-09T02:58:38.499477Z"
    }
   },
   "cell_type": "code",
   "source": "t1 = TestClass(env='test')",
   "id": "382ec9f50cbf7a91",
   "outputs": [],
   "execution_count": 15
  },
  {
   "metadata": {
    "ExecuteTime": {
     "end_time": "2025-02-09T02:58:49.331319Z",
     "start_time": "2025-02-09T02:58:49.327047Z"
    }
   },
   "cell_type": "code",
   "source": "t1.env",
   "id": "781623e5be9248eb",
   "outputs": [
    {
     "data": {
      "text/plain": [
       "'test'"
      ]
     },
     "execution_count": 16,
     "metadata": {},
     "output_type": "execute_result"
    }
   ],
   "execution_count": 16
  },
  {
   "metadata": {
    "ExecuteTime": {
     "end_time": "2025-02-09T02:58:59.871005Z",
     "start_time": "2025-02-09T02:58:59.867561Z"
    }
   },
   "cell_type": "code",
   "source": "t1.env = 'test-2'",
   "id": "53688a563936cc8f",
   "outputs": [],
   "execution_count": 17
  },
  {
   "metadata": {
    "ExecuteTime": {
     "end_time": "2025-02-09T02:59:02.136677Z",
     "start_time": "2025-02-09T02:59:02.130781Z"
    }
   },
   "cell_type": "code",
   "source": "t1.env",
   "id": "f9134f967d4da7ff",
   "outputs": [
    {
     "data": {
      "text/plain": [
       "'test-2'"
      ]
     },
     "execution_count": 18,
     "metadata": {},
     "output_type": "execute_result"
    }
   ],
   "execution_count": 18
  },
  {
   "metadata": {},
   "cell_type": "code",
   "outputs": [],
   "execution_count": null,
   "source": "",
   "id": "d50e8863683b3b6a"
  }
 ],
 "metadata": {
  "kernelspec": {
   "display_name": "Python 3",
   "language": "python",
   "name": "python3"
  },
  "language_info": {
   "codemirror_mode": {
    "name": "ipython",
    "version": 2
   },
   "file_extension": ".py",
   "mimetype": "text/x-python",
   "name": "python",
   "nbconvert_exporter": "python",
   "pygments_lexer": "ipython2",
   "version": "2.7.6"
  }
 },
 "nbformat": 4,
 "nbformat_minor": 5
}
