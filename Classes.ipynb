{
 "cells": [
  {
   "cell_type": "code",
   "id": "initial_id",
   "metadata": {
    "collapsed": true,
    "ExecuteTime": {
     "end_time": "2025-02-08T04:10:56.758652Z",
     "start_time": "2025-02-08T04:10:56.753688Z"
    }
   },
   "source": "# class",
   "outputs": [],
   "execution_count": 1
  },
  {
   "metadata": {
    "ExecuteTime": {
     "end_time": "2025-02-08T04:11:50.080450Z",
     "start_time": "2025-02-08T04:11:50.077001Z"
    }
   },
   "cell_type": "code",
   "source": [
    "class OneClass:\n",
    "    first = 10\n",
    "    second = 20\n"
   ],
   "id": "6742cc7e1857c444",
   "outputs": [],
   "execution_count": 4
  },
  {
   "metadata": {
    "ExecuteTime": {
     "end_time": "2025-02-08T04:11:50.736189Z",
     "start_time": "2025-02-08T04:11:50.733157Z"
    }
   },
   "cell_type": "code",
   "source": "oneClass = OneClass()",
   "id": "6d80e4e2d29099af",
   "outputs": [],
   "execution_count": 5
  },
  {
   "metadata": {
    "ExecuteTime": {
     "end_time": "2025-02-08T04:11:56.082440Z",
     "start_time": "2025-02-08T04:11:56.075429Z"
    }
   },
   "cell_type": "code",
   "source": "oneClass.__dict__",
   "id": "1b8e7dd419eb3cc3",
   "outputs": [
    {
     "data": {
      "text/plain": [
       "{}"
      ]
     },
     "execution_count": 6,
     "metadata": {},
     "output_type": "execute_result"
    }
   ],
   "execution_count": 6
  },
  {
   "metadata": {
    "ExecuteTime": {
     "end_time": "2025-02-08T04:13:08.531676Z",
     "start_time": "2025-02-08T04:13:08.526399Z"
    }
   },
   "cell_type": "code",
   "source": "OneClass.__dict__",
   "id": "528809fdc56185ae",
   "outputs": [
    {
     "data": {
      "text/plain": [
       "mappingproxy({'__module__': '__main__',\n",
       "              'first': 10,\n",
       "              'second': 20,\n",
       "              '__dict__': <attribute '__dict__' of 'OneClass' objects>,\n",
       "              '__weakref__': <attribute '__weakref__' of 'OneClass' objects>,\n",
       "              '__doc__': None})"
      ]
     },
     "execution_count": 7,
     "metadata": {},
     "output_type": "execute_result"
    }
   ],
   "execution_count": 7
  },
  {
   "metadata": {
    "ExecuteTime": {
     "end_time": "2025-02-08T04:19:15.989983Z",
     "start_time": "2025-02-08T04:19:15.986134Z"
    }
   },
   "cell_type": "code",
   "source": "setattr(OneClass, 'x', 10)",
   "id": "7cb287a2c8e930f1",
   "outputs": [],
   "execution_count": 8
  },
  {
   "metadata": {
    "ExecuteTime": {
     "end_time": "2025-02-08T04:19:22.868726Z",
     "start_time": "2025-02-08T04:19:22.863120Z"
    }
   },
   "cell_type": "code",
   "source": "OneClass.__dict__",
   "id": "66208e69b98c2ee8",
   "outputs": [
    {
     "data": {
      "text/plain": [
       "mappingproxy({'__module__': '__main__',\n",
       "              'first': 10,\n",
       "              'second': 20,\n",
       "              '__dict__': <attribute '__dict__' of 'OneClass' objects>,\n",
       "              '__weakref__': <attribute '__weakref__' of 'OneClass' objects>,\n",
       "              '__doc__': None,\n",
       "              'x': 10})"
      ]
     },
     "execution_count": 9,
     "metadata": {},
     "output_type": "execute_result"
    }
   ],
   "execution_count": 9
  },
  {
   "metadata": {
    "ExecuteTime": {
     "end_time": "2025-02-09T02:43:00.670609Z",
     "start_time": "2025-02-09T02:43:00.667709Z"
    }
   },
   "cell_type": "code",
   "source": "# property - basic ops",
   "id": "58157febc487ac1f",
   "outputs": [],
   "execution_count": 10
  },
  {
   "metadata": {
    "ExecuteTime": {
     "end_time": "2025-02-09T02:58:29.503144Z",
     "start_time": "2025-02-09T02:58:29.498529Z"
    }
   },
   "cell_type": "code",
   "source": [
    "class TestClass:\n",
    "    def __init__(self, env):\n",
    "        self._env = env\n",
    "\n",
    "    def set_env(self, env):\n",
    "        self._env = env\n",
    "\n",
    "    def get_env(self):\n",
    "        return self._env\n",
    "\n",
    "    env = property(fget=get_env, fset=set_env)\n"
   ],
   "id": "b9676eb984ab0104",
   "outputs": [],
   "execution_count": 13
  },
  {
   "metadata": {
    "ExecuteTime": {
     "end_time": "2025-02-09T02:58:38.502730Z",
     "start_time": "2025-02-09T02:58:38.499477Z"
    }
   },
   "cell_type": "code",
   "source": "t1 = TestClass(env='test')",
   "id": "382ec9f50cbf7a91",
   "outputs": [],
   "execution_count": 15
  },
  {
   "metadata": {
    "ExecuteTime": {
     "end_time": "2025-02-09T02:58:49.331319Z",
     "start_time": "2025-02-09T02:58:49.327047Z"
    }
   },
   "cell_type": "code",
   "source": "t1.env",
   "id": "781623e5be9248eb",
   "outputs": [
    {
     "data": {
      "text/plain": [
       "'test'"
      ]
     },
     "execution_count": 16,
     "metadata": {},
     "output_type": "execute_result"
    }
   ],
   "execution_count": 16
  },
  {
   "metadata": {
    "ExecuteTime": {
     "end_time": "2025-02-09T02:58:59.871005Z",
     "start_time": "2025-02-09T02:58:59.867561Z"
    }
   },
   "cell_type": "code",
   "source": "t1.env = 'test-2'",
   "id": "53688a563936cc8f",
   "outputs": [],
   "execution_count": 17
  },
  {
   "metadata": {
    "ExecuteTime": {
     "end_time": "2025-02-09T02:59:02.136677Z",
     "start_time": "2025-02-09T02:59:02.130781Z"
    }
   },
   "cell_type": "code",
   "source": "t1.env",
   "id": "f9134f967d4da7ff",
   "outputs": [
    {
     "data": {
      "text/plain": [
       "'test-2'"
      ]
     },
     "execution_count": 18,
     "metadata": {},
     "output_type": "execute_result"
    }
   ],
   "execution_count": 18
  },
  {
   "metadata": {
    "ExecuteTime": {
     "end_time": "2025-02-10T03:25:51.891860Z",
     "start_time": "2025-02-10T03:25:51.889015Z"
    }
   },
   "cell_type": "code",
   "source": "# Property decorators",
   "id": "d50e8863683b3b6a",
   "outputs": [],
   "execution_count": 19
  },
  {
   "metadata": {
    "ExecuteTime": {
     "end_time": "2025-02-10T03:28:47.748181Z",
     "start_time": "2025-02-10T03:28:47.743760Z"
    }
   },
   "cell_type": "code",
   "source": [
    "class Circle:\n",
    "    def __init__(self, radius):\n",
    "        self._radius = radius\n",
    "\n",
    "    @property\n",
    "    def radius(self):\n",
    "        return self._radius\n",
    "\n",
    "    @radius.setter\n",
    "    def radius(self, radius):\n",
    "        self._radius = radius\n"
   ],
   "id": "3c6f949a7fd95b74",
   "outputs": [],
   "execution_count": 20
  },
  {
   "metadata": {
    "ExecuteTime": {
     "end_time": "2025-02-10T03:29:01.516060Z",
     "start_time": "2025-02-10T03:29:01.512800Z"
    }
   },
   "cell_type": "code",
   "source": "c = Circle(5)\n",
   "id": "7c3a71933828dba6",
   "outputs": [],
   "execution_count": 21
  },
  {
   "metadata": {
    "ExecuteTime": {
     "end_time": "2025-02-10T03:29:07.739353Z",
     "start_time": "2025-02-10T03:29:07.733486Z"
    }
   },
   "cell_type": "code",
   "source": "c.radius",
   "id": "10cbc3ee821a480b",
   "outputs": [
    {
     "data": {
      "text/plain": [
       "5"
      ]
     },
     "execution_count": 22,
     "metadata": {},
     "output_type": "execute_result"
    }
   ],
   "execution_count": 22
  },
  {
   "metadata": {
    "ExecuteTime": {
     "end_time": "2025-02-10T03:29:16.757190Z",
     "start_time": "2025-02-10T03:29:16.752793Z"
    }
   },
   "cell_type": "code",
   "source": "c.radius = 10",
   "id": "3ed9cf9a921eac08",
   "outputs": [],
   "execution_count": 23
  },
  {
   "metadata": {
    "ExecuteTime": {
     "end_time": "2025-02-10T03:29:19.439273Z",
     "start_time": "2025-02-10T03:29:19.434304Z"
    }
   },
   "cell_type": "code",
   "source": "c.radius",
   "id": "e929a044878b95de",
   "outputs": [
    {
     "data": {
      "text/plain": [
       "10"
      ]
     },
     "execution_count": 24,
     "metadata": {},
     "output_type": "execute_result"
    }
   ],
   "execution_count": 24
  },
  {
   "metadata": {
    "ExecuteTime": {
     "end_time": "2025-02-11T02:59:14.230592Z",
     "start_time": "2025-02-11T02:59:14.220556Z"
    }
   },
   "cell_type": "code",
   "source": "# Read-only / pre-computed properties",
   "id": "7e91c08d85d38cb",
   "outputs": [],
   "execution_count": 25
  },
  {
   "metadata": {
    "ExecuteTime": {
     "end_time": "2025-02-11T03:07:07.207346Z",
     "start_time": "2025-02-11T03:07:07.200633Z"
    }
   },
   "cell_type": "code",
   "source": [
    "import math\n",
    "\n",
    "class Circle:\n",
    "    def __init__(self, radius):\n",
    "        self._radius = radius\n",
    "        self._area = None\n",
    "\n",
    "    @property\n",
    "    def radius(self):\n",
    "        return self._radius\n",
    "\n",
    "    @radius.setter\n",
    "    def radius(self, radius):\n",
    "        self._radius = radius\n",
    "        self._area = None\n",
    "\n",
    "    # Read ONLY property\n",
    "    # lazily computed, ONLY when the value is NEEDED\n",
    "    @property\n",
    "    def area(self):\n",
    "        if self._area is None:\n",
    "            return math.pi * math.pow(self._radius, 2)\n",
    "        else:\n",
    "            return self._area"
   ],
   "id": "3582b8a83b672b48",
   "outputs": [],
   "execution_count": 26
  },
  {
   "metadata": {
    "ExecuteTime": {
     "end_time": "2025-02-11T03:07:19.635579Z",
     "start_time": "2025-02-11T03:07:19.632354Z"
    }
   },
   "cell_type": "code",
   "source": "c2 = Circle(10)",
   "id": "706cc7d43bbc5765",
   "outputs": [],
   "execution_count": 27
  },
  {
   "metadata": {
    "ExecuteTime": {
     "end_time": "2025-02-11T03:07:33.278886Z",
     "start_time": "2025-02-11T03:07:33.274416Z"
    }
   },
   "cell_type": "code",
   "source": "c2.radius",
   "id": "11fe8888832e0f97",
   "outputs": [
    {
     "data": {
      "text/plain": [
       "10"
      ]
     },
     "execution_count": 29,
     "metadata": {},
     "output_type": "execute_result"
    }
   ],
   "execution_count": 29
  },
  {
   "metadata": {
    "ExecuteTime": {
     "end_time": "2025-02-11T03:07:37.153625Z",
     "start_time": "2025-02-11T03:07:37.148057Z"
    }
   },
   "cell_type": "code",
   "source": "c2.area",
   "id": "503e5544b34853f5",
   "outputs": [
    {
     "data": {
      "text/plain": [
       "314.1592653589793"
      ]
     },
     "execution_count": 30,
     "metadata": {},
     "output_type": "execute_result"
    }
   ],
   "execution_count": 30
  },
  {
   "metadata": {
    "ExecuteTime": {
     "end_time": "2025-02-13T02:33:03.428002Z",
     "start_time": "2025-02-13T02:33:03.409099Z"
    }
   },
   "cell_type": "code",
   "source": "# Class methods",
   "id": "3585fa81689af4df",
   "outputs": [],
   "execution_count": 31
  },
  {
   "metadata": {
    "ExecuteTime": {
     "end_time": "2025-02-13T02:44:58.268374Z",
     "start_time": "2025-02-13T02:44:58.259930Z"
    }
   },
   "cell_type": "code",
   "source": [
    "class ToyotaCar:\n",
    "    make = \"Toyota\"\n",
    "\n",
    "    @classmethod\n",
    "    def details(cls):\n",
    "        print(f\"The car is of make: {cls.make}\")"
   ],
   "id": "b3efbc3e69d2cf78",
   "outputs": [],
   "execution_count": 32
  },
  {
   "metadata": {
    "ExecuteTime": {
     "end_time": "2025-02-13T02:45:07.592196Z",
     "start_time": "2025-02-13T02:45:07.586184Z"
    }
   },
   "cell_type": "code",
   "source": "ToyotaCar.details()",
   "id": "aa92282ca22d3f36",
   "outputs": [
    {
     "name": "stdout",
     "output_type": "stream",
     "text": [
      "The car is of make: Toyota\n"
     ]
    }
   ],
   "execution_count": 33
  },
  {
   "metadata": {
    "ExecuteTime": {
     "end_time": "2025-02-14T03:24:55.476586Z",
     "start_time": "2025-02-14T03:24:55.461989Z"
    }
   },
   "cell_type": "code",
   "source": "# Static methods",
   "id": "1b6aa8e4475c3adc",
   "outputs": [],
   "execution_count": 34
  },
  {
   "metadata": {
    "ExecuteTime": {
     "end_time": "2025-02-14T03:29:17.293298Z",
     "start_time": "2025-02-14T03:29:17.283800Z"
    }
   },
   "cell_type": "code",
   "source": [
    "class ToyotaCar:\n",
    "\n",
    "    @staticmethod\n",
    "    def proclamation():\n",
    "        print(\"This is a car !\")"
   ],
   "id": "4896a4f4b67ef53a",
   "outputs": [],
   "execution_count": 35
  },
  {
   "metadata": {
    "ExecuteTime": {
     "end_time": "2025-02-16T02:47:45.553966Z",
     "start_time": "2025-02-16T02:47:45.534103Z"
    }
   },
   "cell_type": "code",
   "source": "ToyotaCar.proclamation()",
   "id": "aac0652d30e42929",
   "outputs": [
    {
     "name": "stdout",
     "output_type": "stream",
     "text": [
      "This is a car !\n"
     ]
    }
   ],
   "execution_count": 37
  },
  {
   "metadata": {
    "ExecuteTime": {
     "end_time": "2025-02-16T02:47:58.682787Z",
     "start_time": "2025-02-16T02:47:58.678798Z"
    }
   },
   "cell_type": "code",
   "source": "# Instance method",
   "id": "1fe0585450f285f2",
   "outputs": [],
   "execution_count": 38
  },
  {
   "metadata": {
    "ExecuteTime": {
     "end_time": "2025-02-16T02:48:09.586823Z",
     "start_time": "2025-02-16T02:48:09.579567Z"
    }
   },
   "cell_type": "code",
   "source": [
    "class ToyotaCar:\n",
    "\n",
    "    def __init__(self, owner):\n",
    "        self._owner = owner\n",
    "\n",
    "    def change_owner(self, new_owner):\n",
    "        self._owner = new_owner"
   ],
   "id": "679e1a9cd9b84b9f",
   "outputs": [],
   "execution_count": 39
  },
  {
   "metadata": {
    "ExecuteTime": {
     "end_time": "2025-02-16T02:48:36.905923Z",
     "start_time": "2025-02-16T02:48:36.902533Z"
    }
   },
   "cell_type": "code",
   "source": "toyotaCar2 = ToyotaCar('Mark')",
   "id": "b7dc4e7849ac8fa",
   "outputs": [],
   "execution_count": 41
  },
  {
   "metadata": {
    "ExecuteTime": {
     "end_time": "2025-02-16T02:48:40.739490Z",
     "start_time": "2025-02-16T02:48:40.733950Z"
    }
   },
   "cell_type": "code",
   "source": "toyotaCar2",
   "id": "adcff9c4e4937b69",
   "outputs": [
    {
     "data": {
      "text/plain": [
       "<__main__.ToyotaCar at 0x1076fcdc0>"
      ]
     },
     "execution_count": 42,
     "metadata": {},
     "output_type": "execute_result"
    }
   ],
   "execution_count": 42
  },
  {
   "metadata": {},
   "cell_type": "code",
   "outputs": [],
   "execution_count": null,
   "source": "",
   "id": "fc6abc214153d71d"
  }
 ],
 "metadata": {
  "kernelspec": {
   "display_name": "Python 3",
   "language": "python",
   "name": "python3"
  },
  "language_info": {
   "codemirror_mode": {
    "name": "ipython",
    "version": 2
   },
   "file_extension": ".py",
   "mimetype": "text/x-python",
   "name": "python",
   "nbconvert_exporter": "python",
   "pygments_lexer": "ipython2",
   "version": "2.7.6"
  }
 },
 "nbformat": 4,
 "nbformat_minor": 5
}
