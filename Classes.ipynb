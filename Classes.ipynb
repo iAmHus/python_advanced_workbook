{
 "cells": [
  {
   "cell_type": "code",
   "id": "initial_id",
   "metadata": {
    "collapsed": true,
    "ExecuteTime": {
     "end_time": "2025-02-08T04:10:56.758652Z",
     "start_time": "2025-02-08T04:10:56.753688Z"
    }
   },
   "source": "# class",
   "outputs": [],
   "execution_count": 1
  },
  {
   "metadata": {
    "ExecuteTime": {
     "end_time": "2025-02-08T04:11:50.080450Z",
     "start_time": "2025-02-08T04:11:50.077001Z"
    }
   },
   "cell_type": "code",
   "source": [
    "class OneClass:\n",
    "    first = 10\n",
    "    second = 20\n"
   ],
   "id": "6742cc7e1857c444",
   "outputs": [],
   "execution_count": 4
  },
  {
   "metadata": {
    "ExecuteTime": {
     "end_time": "2025-02-08T04:11:50.736189Z",
     "start_time": "2025-02-08T04:11:50.733157Z"
    }
   },
   "cell_type": "code",
   "source": "oneClass = OneClass()",
   "id": "6d80e4e2d29099af",
   "outputs": [],
   "execution_count": 5
  },
  {
   "metadata": {
    "ExecuteTime": {
     "end_time": "2025-02-08T04:11:56.082440Z",
     "start_time": "2025-02-08T04:11:56.075429Z"
    }
   },
   "cell_type": "code",
   "source": "oneClass.__dict__",
   "id": "1b8e7dd419eb3cc3",
   "outputs": [
    {
     "data": {
      "text/plain": [
       "{}"
      ]
     },
     "execution_count": 6,
     "metadata": {},
     "output_type": "execute_result"
    }
   ],
   "execution_count": 6
  },
  {
   "metadata": {
    "ExecuteTime": {
     "end_time": "2025-02-08T04:13:08.531676Z",
     "start_time": "2025-02-08T04:13:08.526399Z"
    }
   },
   "cell_type": "code",
   "source": "OneClass.__dict__",
   "id": "528809fdc56185ae",
   "outputs": [
    {
     "data": {
      "text/plain": [
       "mappingproxy({'__module__': '__main__',\n",
       "              'first': 10,\n",
       "              'second': 20,\n",
       "              '__dict__': <attribute '__dict__' of 'OneClass' objects>,\n",
       "              '__weakref__': <attribute '__weakref__' of 'OneClass' objects>,\n",
       "              '__doc__': None})"
      ]
     },
     "execution_count": 7,
     "metadata": {},
     "output_type": "execute_result"
    }
   ],
   "execution_count": 7
  },
  {
   "metadata": {},
   "cell_type": "code",
   "outputs": [],
   "execution_count": null,
   "source": "",
   "id": "7cb287a2c8e930f1"
  }
 ],
 "metadata": {
  "kernelspec": {
   "display_name": "Python 3",
   "language": "python",
   "name": "python3"
  },
  "language_info": {
   "codemirror_mode": {
    "name": "ipython",
    "version": 2
   },
   "file_extension": ".py",
   "mimetype": "text/x-python",
   "name": "python",
   "nbconvert_exporter": "python",
   "pygments_lexer": "ipython2",
   "version": "2.7.6"
  }
 },
 "nbformat": 4,
 "nbformat_minor": 5
}
