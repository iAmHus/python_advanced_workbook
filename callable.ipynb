{
 "cells": [
  {
   "metadata": {},
   "cell_type": "markdown",
   "source": "### Creating a custom callable !!",
   "id": "6d0f6e1984dd32ad"
  },
  {
   "cell_type": "code",
   "id": "initial_id",
   "metadata": {
    "collapsed": true,
    "ExecuteTime": {
     "end_time": "2024-11-08T03:16:22.465782Z",
     "start_time": "2024-11-08T03:16:22.461388Z"
    }
   },
   "source": [
    "from decimal import Decimal\n",
    "\n",
    "\n",
    "class Counter:\n",
    "    def __init__(self):\n",
    "        self.init = 0\n",
    "        \n",
    "    def __call__(self, value:int = 1):\n",
    "        self.init += value\n",
    "        print(self.init)\n",
    "        \n"
   ],
   "outputs": [],
   "execution_count": 6
  },
  {
   "metadata": {
    "ExecuteTime": {
     "end_time": "2024-11-08T03:16:22.663973Z",
     "start_time": "2024-11-08T03:16:22.659421Z"
    }
   },
   "cell_type": "code",
   "source": [
    "\n",
    "counter = Counter()\n",
    "counter()"
   ],
   "id": "5bb44a0e032e5572",
   "outputs": [
    {
     "name": "stdout",
     "output_type": "stream",
     "text": [
      "1\n"
     ]
    }
   ],
   "execution_count": 7
  },
  {
   "metadata": {
    "ExecuteTime": {
     "end_time": "2024-11-08T03:15:53.897811Z",
     "start_time": "2024-11-08T03:15:53.893682Z"
    }
   },
   "cell_type": "code",
   "source": "counter(10)",
   "id": "20b9608a187889c6",
   "outputs": [
    {
     "name": "stdout",
     "output_type": "stream",
     "text": [
      "11\n"
     ]
    }
   ],
   "execution_count": 5
  },
  {
   "metadata": {},
   "cell_type": "code",
   "outputs": [],
   "execution_count": null,
   "source": "",
   "id": "a56671cf269a1c90"
  },
  {
   "metadata": {},
   "cell_type": "markdown",
   "source": "### Check if a method is callable in Python",
   "id": "776fd3097c2ff949"
  },
  {
   "metadata": {
    "ExecuteTime": {
     "end_time": "2024-11-08T03:18:23.708722Z",
     "start_time": "2024-11-08T03:18:23.703936Z"
    }
   },
   "cell_type": "code",
   "source": [
    "from typing import List\n",
    "\n",
    "callable(List)"
   ],
   "id": "31fb675e7dd84ce3",
   "outputs": [
    {
     "data": {
      "text/plain": [
       "True"
      ]
     },
     "execution_count": 13,
     "metadata": {},
     "output_type": "execute_result"
    }
   ],
   "execution_count": 13
  },
  {
   "metadata": {
    "ExecuteTime": {
     "end_time": "2024-11-08T03:18:31.498665Z",
     "start_time": "2024-11-08T03:18:31.494020Z"
    }
   },
   "cell_type": "code",
   "source": "callable(tuple)",
   "id": "8d48e57ccaab1f62",
   "outputs": [
    {
     "data": {
      "text/plain": [
       "True"
      ]
     },
     "execution_count": 14,
     "metadata": {},
     "output_type": "execute_result"
    }
   ],
   "execution_count": 14
  },
  {
   "metadata": {},
   "cell_type": "markdown",
   "source": "### NOTE: The counter type created above is callable !! (because it implements __call__ method)",
   "id": "aae2d5dec3b88ef4"
  },
  {
   "metadata": {
    "ExecuteTime": {
     "end_time": "2024-11-08T03:18:46.966167Z",
     "start_time": "2024-11-08T03:18:46.961327Z"
    }
   },
   "cell_type": "code",
   "source": "callable(counter)",
   "id": "798693992dfa3e11",
   "outputs": [
    {
     "data": {
      "text/plain": [
       "True"
      ]
     },
     "execution_count": 16,
     "metadata": {},
     "output_type": "execute_result"
    }
   ],
   "execution_count": 16
  },
  {
   "metadata": {},
   "cell_type": "code",
   "outputs": [],
   "execution_count": null,
   "source": "",
   "id": "b71a1380b510b33d"
  }
 ],
 "metadata": {
  "kernelspec": {
   "display_name": "Python 3",
   "language": "python",
   "name": "python3"
  },
  "language_info": {
   "codemirror_mode": {
    "name": "ipython",
    "version": 2
   },
   "file_extension": ".py",
   "mimetype": "text/x-python",
   "name": "python",
   "nbconvert_exporter": "python",
   "pygments_lexer": "ipython2",
   "version": "2.7.6"
  }
 },
 "nbformat": 4,
 "nbformat_minor": 5
}
