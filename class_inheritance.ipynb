{
 "cells": [
  {
   "cell_type": "code",
   "id": "initial_id",
   "metadata": {
    "collapsed": true,
    "ExecuteTime": {
     "end_time": "2025-02-20T02:55:33.862183Z",
     "start_time": "2025-02-20T02:55:33.857919Z"
    }
   },
   "source": [
    "class Person():\n",
    "    def __init__(self, name):\n",
    "        self.name = name\n",
    "\n",
    "    def __repr__(self):\n",
    "        return self.name\n",
    "\n",
    "class Student(Person):\n",
    "    def __init__(self, name, school):\n",
    "        super().__init__(name)\n",
    "        self.school = school\n",
    "\n",
    "    def __repr__(self):\n",
    "        return \"Student name is: \" + super().__repr__() + \" ; and he goes to \" + self.school"
   ],
   "outputs": [],
   "execution_count": 27
  },
  {
   "metadata": {
    "ExecuteTime": {
     "end_time": "2025-02-20T02:55:34.317783Z",
     "start_time": "2025-02-20T02:55:34.314944Z"
    }
   },
   "cell_type": "code",
   "source": "",
   "id": "8e78ae07c982d529",
   "outputs": [],
   "execution_count": null
  },
  {
   "metadata": {
    "ExecuteTime": {
     "end_time": "2025-02-20T02:55:34.568673Z",
     "start_time": "2025-02-20T02:55:34.565022Z"
    }
   },
   "cell_type": "code",
   "source": "s = Student('Rob','Harvard')",
   "id": "1863e5d7b2ee939a",
   "outputs": [],
   "execution_count": 28
  },
  {
   "metadata": {
    "ExecuteTime": {
     "end_time": "2025-02-20T02:55:35.009326Z",
     "start_time": "2025-02-20T02:55:35.004502Z"
    }
   },
   "cell_type": "code",
   "source": "s",
   "id": "a3acf68e3fcbe6c8",
   "outputs": [
    {
     "data": {
      "text/plain": [
       "Student name is: Rob ; and he goes to Harvard"
      ]
     },
     "execution_count": 29,
     "metadata": {},
     "output_type": "execute_result"
    }
   ],
   "execution_count": 29
  },
  {
   "metadata": {},
   "cell_type": "code",
   "outputs": [],
   "execution_count": null,
   "source": "",
   "id": "4f70946d7e31b850"
  }
 ],
 "metadata": {
  "kernelspec": {
   "display_name": "Python 3",
   "language": "python",
   "name": "python3"
  },
  "language_info": {
   "codemirror_mode": {
    "name": "ipython",
    "version": 2
   },
   "file_extension": ".py",
   "mimetype": "text/x-python",
   "name": "python",
   "nbconvert_exporter": "python",
   "pygments_lexer": "ipython2",
   "version": "2.7.6"
  }
 },
 "nbformat": 4,
 "nbformat_minor": 5
}
