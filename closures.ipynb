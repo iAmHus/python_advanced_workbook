{
 "cells": [
  {
   "metadata": {},
   "cell_type": "markdown",
   "source": "### Closures can be effective especially when there is ONLY one method Class\n",
   "id": "2acc49bd91d093d0"
  },
  {
   "cell_type": "code",
   "id": "initial_id",
   "metadata": {
    "collapsed": true,
    "ExecuteTime": {
     "end_time": "2024-11-10T03:23:35.175523Z",
     "start_time": "2024-11-10T03:23:35.171215Z"
    }
   },
   "source": [
    "import pendulum\n",
    "\n",
    "def log_time_duration():\n",
    "    # This state is initialized once and saved between subsequent invocations\n",
    "    now = pendulum.now()\n",
    "    def build_log():\n",
    "        return now - pendulum.now()\n",
    "    # IMP !!! - you return the internal method !!\n",
    "    return build_log\n",
    "        "
   ],
   "outputs": [],
   "execution_count": 6
  },
  {
   "metadata": {
    "ExecuteTime": {
     "end_time": "2024-11-10T03:23:44.516555Z",
     "start_time": "2024-11-10T03:23:44.513265Z"
    }
   },
   "cell_type": "code",
   "source": "log_time = log_time_duration()",
   "id": "2ed3cdb28f56fbae",
   "outputs": [],
   "execution_count": 8
  },
  {
   "metadata": {
    "ExecuteTime": {
     "end_time": "2024-11-10T03:24:04.435571Z",
     "start_time": "2024-11-10T03:24:04.427221Z"
    }
   },
   "cell_type": "code",
   "source": "log_time()",
   "id": "52f8f4ccdd86bd74",
   "outputs": [
    {
     "data": {
      "text/plain": [
       "<Interval [2024-11-09 22:24:04.430039-05:00 -> 2024-11-09 22:23:44.514452-05:00]>"
      ]
     },
     "execution_count": 9,
     "metadata": {},
     "output_type": "execute_result"
    }
   ],
   "execution_count": 9
  },
  {
   "metadata": {
    "ExecuteTime": {
     "end_time": "2024-11-10T03:26:58.851031Z",
     "start_time": "2024-11-10T03:26:58.846544Z"
    }
   },
   "cell_type": "code",
   "source": "log_time()",
   "id": "3f10c63142b53af7",
   "outputs": [
    {
     "data": {
      "text/plain": [
       "<Interval [2024-11-09 22:26:58.847637-05:00 -> 2024-11-09 22:23:44.514452-05:00]>"
      ]
     },
     "execution_count": 11,
     "metadata": {},
     "output_type": "execute_result"
    }
   ],
   "execution_count": 11
  },
  {
   "metadata": {
    "ExecuteTime": {
     "end_time": "2024-11-10T03:32:53.442200Z",
     "start_time": "2024-11-10T03:32:53.436420Z"
    }
   },
   "cell_type": "code",
   "source": "log_time()",
   "id": "ca653ed8de21b12c",
   "outputs": [
    {
     "data": {
      "text/plain": [
       "<Interval [2024-11-09 22:32:53.437706-05:00 -> 2024-11-09 22:23:44.514452-05:00]>"
      ]
     },
     "execution_count": 12,
     "metadata": {},
     "output_type": "execute_result"
    }
   ],
   "execution_count": 12
  },
  {
   "metadata": {},
   "cell_type": "markdown",
   "source": "",
   "id": "f13b78a3166c2a9a"
  },
  {
   "metadata": {},
   "cell_type": "markdown",
   "source": "#### Calling it again will reinitialize / reset it !!!",
   "id": "5e8a62fdc552b166"
  },
  {
   "metadata": {},
   "cell_type": "code",
   "outputs": [],
   "execution_count": null,
   "source": "log_time2 = log_time_duration()",
   "id": "18a0d64f820a52a1"
  }
 ],
 "metadata": {
  "kernelspec": {
   "display_name": "Python 3",
   "language": "python",
   "name": "python3"
  },
  "language_info": {
   "codemirror_mode": {
    "name": "ipython",
    "version": 2
   },
   "file_extension": ".py",
   "mimetype": "text/x-python",
   "name": "python",
   "nbconvert_exporter": "python",
   "pygments_lexer": "ipython2",
   "version": "2.7.6"
  }
 },
 "nbformat": 4,
 "nbformat_minor": 5
}
