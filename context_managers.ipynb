{
 "cells": [
  {
   "cell_type": "code",
   "id": "initial_id",
   "metadata": {
    "collapsed": true,
    "ExecuteTime": {
     "end_time": "2025-02-04T03:29:41.855953Z",
     "start_time": "2025-02-04T03:29:41.851091Z"
    }
   },
   "source": "# Simple context manager",
   "outputs": [],
   "execution_count": 1
  },
  {
   "metadata": {
    "ExecuteTime": {
     "end_time": "2025-02-04T03:36:50.009608Z",
     "start_time": "2025-02-04T03:36:50.005025Z"
    }
   },
   "cell_type": "code",
   "source": [
    "with open('./test_ctxt_mgr.txt', 'r') as f:\n",
    "    for line in f.readlines():\n",
    "        print(line)"
   ],
   "id": "bf0caab3934fc0f8",
   "outputs": [
    {
     "name": "stdout",
     "output_type": "stream",
     "text": [
      "hello\n",
      "\n",
      "hi\n",
      "\n",
      "this is a\n",
      "\n",
      "context mananger\n",
      "\n",
      "sample file\n"
     ]
    }
   ],
   "execution_count": 3
  },
  {
   "metadata": {},
   "cell_type": "code",
   "outputs": [],
   "execution_count": null,
   "source": "",
   "id": "87d9f123223ec2c7"
  }
 ],
 "metadata": {
  "kernelspec": {
   "display_name": "Python 3",
   "language": "python",
   "name": "python3"
  },
  "language_info": {
   "codemirror_mode": {
    "name": "ipython",
    "version": 2
   },
   "file_extension": ".py",
   "mimetype": "text/x-python",
   "name": "python",
   "nbconvert_exporter": "python",
   "pygments_lexer": "ipython2",
   "version": "2.7.6"
  }
 },
 "nbformat": 4,
 "nbformat_minor": 5
}
