{
 "cells": [
  {
   "cell_type": "code",
   "id": "initial_id",
   "metadata": {
    "collapsed": true,
    "ExecuteTime": {
     "end_time": "2025-02-04T03:29:41.855953Z",
     "start_time": "2025-02-04T03:29:41.851091Z"
    }
   },
   "source": "# Simple context manager",
   "outputs": [],
   "execution_count": 1
  },
  {
   "metadata": {
    "ExecuteTime": {
     "end_time": "2025-02-04T03:36:50.009608Z",
     "start_time": "2025-02-04T03:36:50.005025Z"
    }
   },
   "cell_type": "code",
   "source": [
    "with open('./test_ctxt_mgr.txt', 'r') as f:\n",
    "    for line in f.readlines():\n",
    "        print(line)"
   ],
   "id": "bf0caab3934fc0f8",
   "outputs": [
    {
     "name": "stdout",
     "output_type": "stream",
     "text": [
      "hello\n",
      "\n",
      "hi\n",
      "\n",
      "this is a\n",
      "\n",
      "context mananger\n",
      "\n",
      "sample file\n"
     ]
    }
   ],
   "execution_count": 3
  },
  {
   "metadata": {
    "ExecuteTime": {
     "end_time": "2025-02-05T02:54:15.990500Z",
     "start_time": "2025-02-05T02:54:15.986911Z"
    }
   },
   "cell_type": "code",
   "source": "# custom context managers",
   "id": "87d9f123223ec2c7",
   "outputs": [],
   "execution_count": 1
  },
  {
   "metadata": {
    "ExecuteTime": {
     "end_time": "2025-02-06T03:39:10.385608Z",
     "start_time": "2025-02-06T03:39:08.379018Z"
    }
   },
   "cell_type": "code",
   "source": [
    "from time import perf_counter, sleep\n",
    "\n",
    "class Timer:\n",
    "    def __init__(self):\n",
    "        self.time_elapsed = 0\n",
    "\n",
    "    def __enter__(self):\n",
    "        print('Timer started')\n",
    "        self.start_time = perf_counter()\n",
    "        self.time_elapsed = 0\n",
    "        # This is important because the with statement is now storing this - the 'in clause'\n",
    "        return self\n",
    "\n",
    "    def __exit__(self, exc_type, exc_val, exc_tb):\n",
    "        self.time_elapsed = perf_counter() - self.start_time\n",
    "        return True\n",
    "\n",
    "with Timer() as timer:\n",
    "    sleep(2)\n",
    "# IMP: unlike scope with other things in python, here\n",
    "# you can access 'timer' var - even if it is seemingly out of scope !!\n",
    "print(f'Timer completed and the time spent is: {timer.time_elapsed}')"
   ],
   "id": "b06ab4275bac1966",
   "outputs": [
    {
     "name": "stdout",
     "output_type": "stream",
     "text": [
      "Timer started\n",
      "Timer completed and the time spent is: 2.0013889510009903\n"
     ]
    }
   ],
   "execution_count": 2
  },
  {
   "metadata": {},
   "cell_type": "code",
   "outputs": [],
   "execution_count": null,
   "source": "",
   "id": "5ca6804e0f8f83b1"
  }
 ],
 "metadata": {
  "kernelspec": {
   "display_name": "Python 3",
   "language": "python",
   "name": "python3"
  },
  "language_info": {
   "codemirror_mode": {
    "name": "ipython",
    "version": 2
   },
   "file_extension": ".py",
   "mimetype": "text/x-python",
   "name": "python",
   "nbconvert_exporter": "python",
   "pygments_lexer": "ipython2",
   "version": "2.7.6"
  }
 },
 "nbformat": 4,
 "nbformat_minor": 5
}
