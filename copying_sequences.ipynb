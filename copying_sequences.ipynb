{
 "cells": [
  {
   "cell_type": "code",
   "id": "initial_id",
   "metadata": {
    "collapsed": true,
    "ExecuteTime": {
     "end_time": "2025-01-17T03:20:03.394661Z",
     "start_time": "2025-01-17T03:20:03.391368Z"
    }
   },
   "source": "import copy",
   "outputs": [],
   "execution_count": 21
  },
  {
   "metadata": {
    "ExecuteTime": {
     "end_time": "2025-01-17T03:20:04.113528Z",
     "start_time": "2025-01-17T03:20:04.109861Z"
    }
   },
   "cell_type": "code",
   "source": [
    "v1 = [1,1]\n",
    "v2 = [2,2]\n",
    "\n",
    "l1 = [v1, v2]"
   ],
   "id": "209b417b2dd84f79",
   "outputs": [],
   "execution_count": 22
  },
  {
   "metadata": {
    "ExecuteTime": {
     "end_time": "2025-01-17T03:20:05.944503Z",
     "start_time": "2025-01-17T03:20:05.939969Z"
    }
   },
   "cell_type": "code",
   "source": "print(id(l1[0]), id(l1[1]))",
   "id": "20023f68d126a672",
   "outputs": [
    {
     "name": "stdout",
     "output_type": "stream",
     "text": [
      "4510737408 4506937024\n"
     ]
    }
   ],
   "execution_count": 23
  },
  {
   "metadata": {
    "ExecuteTime": {
     "end_time": "2025-01-17T03:20:07.761929Z",
     "start_time": "2025-01-17T03:20:07.758867Z"
    }
   },
   "cell_type": "code",
   "source": "l2 = copy.copy(l1)",
   "id": "905667b05241261c",
   "outputs": [],
   "execution_count": 24
  },
  {
   "metadata": {
    "ExecuteTime": {
     "end_time": "2025-01-17T03:20:09.084486Z",
     "start_time": "2025-01-17T03:20:09.079732Z"
    }
   },
   "cell_type": "code",
   "source": "l2 is l1",
   "id": "48c274222d23e1eb",
   "outputs": [
    {
     "data": {
      "text/plain": [
       "False"
      ]
     },
     "execution_count": 25,
     "metadata": {},
     "output_type": "execute_result"
    }
   ],
   "execution_count": 25
  },
  {
   "metadata": {
    "ExecuteTime": {
     "end_time": "2025-01-17T03:20:10.588894Z",
     "start_time": "2025-01-17T03:20:10.584868Z"
    }
   },
   "cell_type": "code",
   "source": "print(id(l2[0]), id(l2[1]))",
   "id": "7ddd364b8500c049",
   "outputs": [
    {
     "name": "stdout",
     "output_type": "stream",
     "text": [
      "4510737408 4506937024\n"
     ]
    }
   ],
   "execution_count": 26
  },
  {
   "metadata": {
    "ExecuteTime": {
     "end_time": "2025-01-17T03:20:20.281809Z",
     "start_time": "2025-01-17T03:20:20.279433Z"
    }
   },
   "cell_type": "code",
   "source": "# These are exactly the same as l1 'coz its a SHALLOW COPY",
   "id": "ad01fe4d6ae53713",
   "outputs": [],
   "execution_count": null
  },
  {
   "metadata": {
    "ExecuteTime": {
     "end_time": "2025-01-17T03:20:20.760211Z",
     "start_time": "2025-01-17T03:20:20.757651Z"
    }
   },
   "cell_type": "code",
   "source": "",
   "id": "f74608584d591a7f",
   "outputs": [],
   "execution_count": null
  },
  {
   "metadata": {
    "ExecuteTime": {
     "end_time": "2025-01-17T03:20:21.051294Z",
     "start_time": "2025-01-17T03:20:21.047651Z"
    }
   },
   "cell_type": "code",
   "source": "## Deepcopy",
   "id": "1f88391e92fbbf96",
   "outputs": [],
   "execution_count": 27
  },
  {
   "metadata": {
    "ExecuteTime": {
     "end_time": "2025-01-17T03:20:21.509112Z",
     "start_time": "2025-01-17T03:20:21.495537Z"
    }
   },
   "cell_type": "code",
   "source": "l3 = copy.deepcopy(l1)",
   "id": "2553cc9b27804f04",
   "outputs": [],
   "execution_count": 28
  },
  {
   "metadata": {
    "ExecuteTime": {
     "end_time": "2025-01-17T03:20:21.933300Z",
     "start_time": "2025-01-17T03:20:21.928418Z"
    }
   },
   "cell_type": "code",
   "source": "l3 is l1",
   "id": "9d1877245e6d9ef1",
   "outputs": [
    {
     "data": {
      "text/plain": [
       "False"
      ]
     },
     "execution_count": 29,
     "metadata": {},
     "output_type": "execute_result"
    }
   ],
   "execution_count": 29
  },
  {
   "metadata": {
    "ExecuteTime": {
     "end_time": "2025-01-17T03:20:23.250192Z",
     "start_time": "2025-01-17T03:20:23.246022Z"
    }
   },
   "cell_type": "code",
   "source": "print(id(l3[0]), id(l3[1]))\n",
   "id": "4977d5ff5859ef48",
   "outputs": [
    {
     "name": "stdout",
     "output_type": "stream",
     "text": [
      "4510738624 4510735808\n"
     ]
    }
   ],
   "execution_count": 30
  },
  {
   "metadata": {},
   "cell_type": "code",
   "outputs": [],
   "execution_count": null,
   "source": "# These are different from l1, coz its a DEEP COPY",
   "id": "cc4cb7b60e9387af"
  }
 ],
 "metadata": {
  "kernelspec": {
   "display_name": "Python 3",
   "language": "python",
   "name": "python3"
  },
  "language_info": {
   "codemirror_mode": {
    "name": "ipython",
    "version": 2
   },
   "file_extension": ".py",
   "mimetype": "text/x-python",
   "name": "python",
   "nbconvert_exporter": "python",
   "pygments_lexer": "ipython2",
   "version": "2.7.6"
  }
 },
 "nbformat": 4,
 "nbformat_minor": 5
}
