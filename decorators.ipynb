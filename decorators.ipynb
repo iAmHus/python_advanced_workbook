{
 "cells": [
  {
   "cell_type": "code",
   "id": "initial_id",
   "metadata": {
    "collapsed": true,
    "ExecuteTime": {
     "end_time": "2025-01-10T03:33:17.587923Z",
     "start_time": "2025-01-10T03:33:17.584424Z"
    }
   },
   "source": [
    ""
   ],
   "outputs": [],
   "execution_count": null
  },
  {
   "metadata": {},
   "cell_type": "markdown",
   "source": "### Decorators are closures with a function",
   "id": "f009ca235b1a8e42"
  },
  {
   "metadata": {},
   "cell_type": "markdown",
   "source": "#### Plain decorator",
   "id": "952a0d812e97a2db"
  },
  {
   "metadata": {
    "ExecuteTime": {
     "end_time": "2025-01-10T03:45:16.790426Z",
     "start_time": "2025-01-10T03:45:16.785441Z"
    }
   },
   "cell_type": "code",
   "source": [
    "from functools import wraps\n",
    "from time import perf_counter, sleep\n",
    "\n",
    "\n",
    "def timed(fn):\n",
    "\n",
    "    @wraps(fn)\n",
    "    def inner(*args, **kwargs):\n",
    "        start = perf_counter()\n",
    "        result = fn(*args, **kwargs)\n",
    "        end = perf_counter()\n",
    "\n",
    "        print(f\"Time taken is: {end - start}\")\n",
    "        return result\n",
    "\n",
    "    return inner\n",
    "\n"
   ],
   "id": "8dae630a7300cf9a",
   "outputs": [],
   "execution_count": 37
  },
  {
   "metadata": {
    "ExecuteTime": {
     "end_time": "2025-01-10T03:45:17.043451Z",
     "start_time": "2025-01-10T03:45:17.039321Z"
    }
   },
   "cell_type": "code",
   "source": [
    "@timed\n",
    "def rand_func(a = 1, b =2) -> None:\n",
    "    sleep(1)\n",
    "    print(f\"The input args are: {a} and {b}\")\n"
   ],
   "id": "29b016bfb2abd2d7",
   "outputs": [],
   "execution_count": 38
  },
  {
   "metadata": {
    "ExecuteTime": {
     "end_time": "2025-01-10T03:45:18.439322Z",
     "start_time": "2025-01-10T03:45:17.430130Z"
    }
   },
   "cell_type": "code",
   "source": "rand_func(4, 5)",
   "id": "8ceede1776b757",
   "outputs": [
    {
     "name": "stdout",
     "output_type": "stream",
     "text": [
      "The input args are: 4 and 5\n",
      "Time taken is: 1.004845800998737\n"
     ]
    }
   ],
   "execution_count": 39
  },
  {
   "metadata": {},
   "cell_type": "code",
   "outputs": [],
   "execution_count": null,
   "source": "",
   "id": "409d19543ade177"
  },
  {
   "metadata": {},
   "cell_type": "markdown",
   "source": "",
   "id": "7e302b469e1cee11"
  },
  {
   "metadata": {},
   "cell_type": "markdown",
   "source": "#### Logging deorator\n",
   "id": "b3599e0ccba1bc35"
  },
  {
   "metadata": {
    "ExecuteTime": {
     "end_time": "2025-01-11T04:20:26.341722Z",
     "start_time": "2025-01-11T04:20:26.337770Z"
    }
   },
   "cell_type": "code",
   "source": [
    "from functools import wraps\n",
    "\n",
    "def logged(fn):\n",
    "\n",
    "    @wraps(fn)\n",
    "    def inner(*args, **kwargs):\n",
    "        print(\"--Method started--\")\n",
    "        fn(*args, **kwargs)\n",
    "        print(\"--Method completed--\")\n",
    "\n",
    "    return inner"
   ],
   "id": "4d65a7d4697da51b",
   "outputs": [],
   "execution_count": 6
  },
  {
   "metadata": {
    "ExecuteTime": {
     "end_time": "2025-01-11T04:20:26.958456Z",
     "start_time": "2025-01-11T04:20:26.954014Z"
    }
   },
   "cell_type": "code",
   "source": [
    "@logged\n",
    "\n",
    "def test_logging():\n",
    "    print('test_logging method')"
   ],
   "id": "dc4f78e93444257e",
   "outputs": [],
   "execution_count": 7
  },
  {
   "metadata": {
    "ExecuteTime": {
     "end_time": "2025-01-11T04:20:27.960155Z",
     "start_time": "2025-01-11T04:20:27.956093Z"
    }
   },
   "cell_type": "code",
   "source": "test_logging()",
   "id": "f3e01de4426559aa",
   "outputs": [
    {
     "name": "stdout",
     "output_type": "stream",
     "text": [
      "--Method started--\n",
      "test_logging method\n",
      "--Method completed--\n"
     ]
    }
   ],
   "execution_count": 8
  },
  {
   "metadata": {},
   "cell_type": "code",
   "outputs": [],
   "execution_count": null,
   "source": "",
   "id": "a8ee8ab2f4033472"
  },
  {
   "metadata": {},
   "cell_type": "code",
   "outputs": [],
   "execution_count": null,
   "source": "",
   "id": "fc32014fd112631b"
  },
  {
   "metadata": {
    "ExecuteTime": {
     "end_time": "2025-01-12T03:17:50.398586Z",
     "start_time": "2025-01-12T03:17:50.392049Z"
    }
   },
   "cell_type": "code",
   "source": [
    "from functools import wraps\n",
    "\n",
    "def logged_multiple(num_reps):\n",
    "    def decorator(fn):\n",
    "        @wraps(fn)\n",
    "        def inner(*args, **kwargs):\n",
    "            for _ in range(num_reps):\n",
    "                print(\"--Method started--\")\n",
    "                result = fn(*args, **kwargs)\n",
    "                print(\"--Method completed--\")\n",
    "                print('=='*10)\n",
    "                return result\n",
    "\n",
    "        return inner\n",
    "    return decorator"
   ],
   "id": "8caf0212bb9d81db",
   "outputs": [],
   "execution_count": 10
  },
  {
   "metadata": {
    "ExecuteTime": {
     "end_time": "2025-01-12T03:17:51.206108Z",
     "start_time": "2025-01-12T03:17:51.201933Z"
    }
   },
   "cell_type": "code",
   "source": [
    "@logged_multiple(num_reps=2)\n",
    "def test_logging():\n",
    "    print('test_logging method')"
   ],
   "id": "67e8e3e793a3a149",
   "outputs": [],
   "execution_count": 11
  },
  {
   "metadata": {
    "ExecuteTime": {
     "end_time": "2025-01-12T03:17:51.881914Z",
     "start_time": "2025-01-12T03:17:51.878334Z"
    }
   },
   "cell_type": "code",
   "source": "test_logging()",
   "id": "3e00fc093009fa64",
   "outputs": [
    {
     "name": "stdout",
     "output_type": "stream",
     "text": [
      "--Method started--\n",
      "test_logging method\n",
      "--Method completed--\n",
      "====================\n",
      "--Method started--\n",
      "test_logging method\n",
      "--Method completed--\n",
      "====================\n"
     ]
    }
   ],
   "execution_count": 12
  },
  {
   "metadata": {},
   "cell_type": "code",
   "outputs": [],
   "execution_count": null,
   "source": "",
   "id": "bbb729fbfa510b4c"
  },
  {
   "metadata": {},
   "cell_type": "markdown",
   "source": "#### Implementing Counter using decorators",
   "id": "edfb8c11bba962f9"
  },
  {
   "metadata": {
    "ExecuteTime": {
     "end_time": "2025-01-13T02:22:25.435842Z",
     "start_time": "2025-01-13T02:22:25.430317Z"
    }
   },
   "cell_type": "code",
   "source": [
    "def counter(fn):\n",
    "    count = 0\n",
    "    @wraps(fn)\n",
    "    def inner(*args, **kwargs):\n",
    "        nonlocal count\n",
    "        count += 1\n",
    "        print(f\"The fn has been called {count} times\")\n",
    "        return fn(*args,**kwargs)\n",
    "\n",
    "    return inner"
   ],
   "id": "2973d321ab92d78b",
   "outputs": [],
   "execution_count": 22
  },
  {
   "metadata": {
    "ExecuteTime": {
     "end_time": "2025-01-13T02:22:25.870561Z",
     "start_time": "2025-01-13T02:22:25.867054Z"
    }
   },
   "cell_type": "code",
   "source": [
    "@counter\n",
    "def fn1():\n",
    "    print('In fn1')\n",
    "\n",
    "@counter\n",
    "def fn2():\n",
    "    print('In fn2')"
   ],
   "id": "614d55a2588400a9",
   "outputs": [],
   "execution_count": 23
  },
  {
   "metadata": {
    "ExecuteTime": {
     "end_time": "2025-01-13T02:22:26.414722Z",
     "start_time": "2025-01-13T02:22:26.409818Z"
    }
   },
   "cell_type": "code",
   "source": "fn1()",
   "id": "b86455e5b450287f",
   "outputs": [
    {
     "name": "stdout",
     "output_type": "stream",
     "text": [
      "The fn has been called 1 times\n",
      "In fn1\n"
     ]
    }
   ],
   "execution_count": 24
  },
  {
   "metadata": {
    "ExecuteTime": {
     "end_time": "2025-01-13T02:22:27.938446Z",
     "start_time": "2025-01-13T02:22:27.934942Z"
    }
   },
   "cell_type": "code",
   "source": "fn1()",
   "id": "ae6baec37e7fcdd7",
   "outputs": [
    {
     "name": "stdout",
     "output_type": "stream",
     "text": [
      "The fn has been called 2 times\n",
      "In fn1\n"
     ]
    }
   ],
   "execution_count": 25
  },
  {
   "metadata": {
    "ExecuteTime": {
     "end_time": "2025-01-13T02:22:28.966495Z",
     "start_time": "2025-01-13T02:22:28.962936Z"
    }
   },
   "cell_type": "code",
   "source": "fn2()",
   "id": "caad708b9f08bddb",
   "outputs": [
    {
     "name": "stdout",
     "output_type": "stream",
     "text": [
      "The fn has been called 1 times\n",
      "In fn2\n"
     ]
    }
   ],
   "execution_count": 26
  },
  {
   "metadata": {
    "ExecuteTime": {
     "end_time": "2025-01-13T02:22:32.926154Z",
     "start_time": "2025-01-13T02:22:32.923179Z"
    }
   },
   "cell_type": "code",
   "source": "fn1()",
   "id": "cc87ad2060aea293",
   "outputs": [
    {
     "name": "stdout",
     "output_type": "stream",
     "text": [
      "The fn has been called 3 times\n",
      "In fn1\n"
     ]
    }
   ],
   "execution_count": 27
  },
  {
   "metadata": {},
   "cell_type": "code",
   "outputs": [],
   "execution_count": null,
   "source": "",
   "id": "9d5364c2d26c3d07"
  }
 ],
 "metadata": {
  "kernelspec": {
   "display_name": "Python 3",
   "language": "python",
   "name": "python3"
  },
  "language_info": {
   "codemirror_mode": {
    "name": "ipython",
    "version": 2
   },
   "file_extension": ".py",
   "mimetype": "text/x-python",
   "name": "python",
   "nbconvert_exporter": "python",
   "pygments_lexer": "ipython2",
   "version": "2.7.6"
  }
 },
 "nbformat": 4,
 "nbformat_minor": 5
}
