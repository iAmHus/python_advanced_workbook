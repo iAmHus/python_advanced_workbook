{
 "cells": [
  {
   "cell_type": "code",
   "id": "initial_id",
   "metadata": {
    "collapsed": true,
    "ExecuteTime": {
     "end_time": "2025-01-10T03:33:17.587923Z",
     "start_time": "2025-01-10T03:33:17.584424Z"
    }
   },
   "source": [
    ""
   ],
   "outputs": [],
   "execution_count": null
  },
  {
   "metadata": {},
   "cell_type": "markdown",
   "source": "### Decorators are closures with a function",
   "id": "f009ca235b1a8e42"
  },
  {
   "metadata": {},
   "cell_type": "markdown",
   "source": "#### Plain decorator",
   "id": "952a0d812e97a2db"
  },
  {
   "metadata": {
    "ExecuteTime": {
     "end_time": "2025-01-10T03:45:16.790426Z",
     "start_time": "2025-01-10T03:45:16.785441Z"
    }
   },
   "cell_type": "code",
   "source": [
    "from functools import wraps\n",
    "from time import perf_counter, sleep\n",
    "\n",
    "\n",
    "def timed(fn):\n",
    "\n",
    "    @wraps(fn)\n",
    "    def inner(*args, **kwargs):\n",
    "        start = perf_counter()\n",
    "        result = fn(*args, **kwargs)\n",
    "        end = perf_counter()\n",
    "\n",
    "        print(f\"Time taken is: {end - start}\")\n",
    "        return result\n",
    "\n",
    "    return inner\n",
    "\n"
   ],
   "id": "8dae630a7300cf9a",
   "outputs": [],
   "execution_count": 37
  },
  {
   "metadata": {
    "ExecuteTime": {
     "end_time": "2025-01-10T03:45:17.043451Z",
     "start_time": "2025-01-10T03:45:17.039321Z"
    }
   },
   "cell_type": "code",
   "source": [
    "@timed\n",
    "def rand_func(a = 1, b =2) -> None:\n",
    "    sleep(1)\n",
    "    print(f\"The input args are: {a} and {b}\")\n"
   ],
   "id": "29b016bfb2abd2d7",
   "outputs": [],
   "execution_count": 38
  },
  {
   "metadata": {
    "ExecuteTime": {
     "end_time": "2025-01-10T03:45:18.439322Z",
     "start_time": "2025-01-10T03:45:17.430130Z"
    }
   },
   "cell_type": "code",
   "source": "rand_func(4, 5)",
   "id": "8ceede1776b757",
   "outputs": [
    {
     "name": "stdout",
     "output_type": "stream",
     "text": [
      "The input args are: 4 and 5\n",
      "Time taken is: 1.004845800998737\n"
     ]
    }
   ],
   "execution_count": 39
  },
  {
   "metadata": {},
   "cell_type": "code",
   "outputs": [],
   "execution_count": null,
   "source": "",
   "id": "409d19543ade177"
  },
  {
   "metadata": {},
   "cell_type": "markdown",
   "source": "",
   "id": "7e302b469e1cee11"
  },
  {
   "metadata": {},
   "cell_type": "markdown",
   "source": "#### Logging deorator\n",
   "id": "b3599e0ccba1bc35"
  },
  {
   "metadata": {
    "ExecuteTime": {
     "end_time": "2025-01-11T03:36:56.013870Z",
     "start_time": "2025-01-11T03:36:56.008625Z"
    }
   },
   "cell_type": "code",
   "source": [
    "from functools import wraps\n",
    "\n",
    "def logged(fn):\n",
    "\n",
    "    @wraps(fn)\n",
    "    def inner(*args, **kwargs):\n",
    "        print(\"Method started\")\n",
    "        fn(*args, **kwargs)\n",
    "        print(\"Method completed\")\n",
    "\n",
    "    return inner"
   ],
   "id": "4d65a7d4697da51b",
   "outputs": [],
   "execution_count": 3
  },
  {
   "metadata": {
    "ExecuteTime": {
     "end_time": "2025-01-11T03:36:56.714541Z",
     "start_time": "2025-01-11T03:36:56.710805Z"
    }
   },
   "cell_type": "code",
   "source": [
    "@logged\n",
    "def test_logging():\n",
    "    print('Logging method')"
   ],
   "id": "dc4f78e93444257e",
   "outputs": [],
   "execution_count": 4
  },
  {
   "metadata": {
    "ExecuteTime": {
     "end_time": "2025-01-11T03:37:03.321320Z",
     "start_time": "2025-01-11T03:37:03.317470Z"
    }
   },
   "cell_type": "code",
   "source": "test_logging()",
   "id": "f3e01de4426559aa",
   "outputs": [
    {
     "name": "stdout",
     "output_type": "stream",
     "text": [
      "Method started\n",
      "Logging method\n",
      "Method completed\n"
     ]
    }
   ],
   "execution_count": 5
  },
  {
   "metadata": {},
   "cell_type": "code",
   "outputs": [],
   "execution_count": null,
   "source": "",
   "id": "a8ee8ab2f4033472"
  }
 ],
 "metadata": {
  "kernelspec": {
   "display_name": "Python 3",
   "language": "python",
   "name": "python3"
  },
  "language_info": {
   "codemirror_mode": {
    "name": "ipython",
    "version": 2
   },
   "file_extension": ".py",
   "mimetype": "text/x-python",
   "name": "python",
   "nbconvert_exporter": "python",
   "pygments_lexer": "ipython2",
   "version": "2.7.6"
  }
 },
 "nbformat": 4,
 "nbformat_minor": 5
}
