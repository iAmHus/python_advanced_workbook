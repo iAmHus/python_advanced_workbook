{
 "cells": [
  {
   "cell_type": "code",
   "id": "initial_id",
   "metadata": {
    "collapsed": true,
    "ExecuteTime": {
     "end_time": "2025-02-22T03:25:44.585622Z",
     "start_time": "2025-02-22T03:25:44.581280Z"
    }
   },
   "source": [
    "from datetime import datetime, timezone\n",
    "\n",
    "class TimeInfo:\n",
    "    def __get__(self, instance, owner):\n",
    "        return datetime.now(timezone.utc).isoformat()"
   ],
   "outputs": [],
   "execution_count": 22
  },
  {
   "metadata": {
    "ExecuteTime": {
     "end_time": "2025-02-22T03:25:44.768910Z",
     "start_time": "2025-02-22T03:25:44.764998Z"
    }
   },
   "cell_type": "code",
   "source": [
    "class Logger:\n",
    "    current_time_utc = TimeInfo()"
   ],
   "id": "f14c24669ee25eac",
   "outputs": [],
   "execution_count": 23
  },
  {
   "metadata": {
    "ExecuteTime": {
     "end_time": "2025-02-22T03:25:44.933665Z",
     "start_time": "2025-02-22T03:25:44.928447Z"
    }
   },
   "cell_type": "code",
   "source": [
    "l = Logger()\n",
    "\n",
    "l.current_time_utc"
   ],
   "id": "dd77c75eccacb085",
   "outputs": [
    {
     "data": {
      "text/plain": [
       "'2025-02-22T03:25:44.930239+00:00'"
      ]
     },
     "execution_count": 24,
     "metadata": {},
     "output_type": "execute_result"
    }
   ],
   "execution_count": 24
  },
  {
   "metadata": {
    "ExecuteTime": {
     "end_time": "2025-02-22T03:22:55.185377Z",
     "start_time": "2025-02-22T03:22:55.182636Z"
    }
   },
   "cell_type": "code",
   "source": "",
   "id": "34f7e8a1d9481733",
   "outputs": [],
   "execution_count": null
  },
  {
   "metadata": {},
   "cell_type": "code",
   "outputs": [],
   "execution_count": null,
   "source": "",
   "id": "13ec61f758be35dd"
  }
 ],
 "metadata": {
  "kernelspec": {
   "display_name": "Python 3",
   "language": "python",
   "name": "python3"
  },
  "language_info": {
   "codemirror_mode": {
    "name": "ipython",
    "version": 2
   },
   "file_extension": ".py",
   "mimetype": "text/x-python",
   "name": "python",
   "nbconvert_exporter": "python",
   "pygments_lexer": "ipython2",
   "version": "2.7.6"
  }
 },
 "nbformat": 4,
 "nbformat_minor": 5
}
