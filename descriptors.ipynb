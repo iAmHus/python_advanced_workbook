{
 "cells": [
  {
   "cell_type": "code",
   "id": "initial_id",
   "metadata": {
    "collapsed": true,
    "ExecuteTime": {
     "end_time": "2025-02-23T03:52:31.824038Z",
     "start_time": "2025-02-23T03:52:31.819612Z"
    }
   },
   "source": [
    "from datetime import datetime, timezone\n",
    "\n",
    "class TimeInfo:\n",
    "    def __get__(self, instance, owner):\n",
    "        if not instance:\n",
    "            return self\n",
    "        else:\n",
    "            return datetime.now(timezone.utc).isoformat()"
   ],
   "outputs": [],
   "execution_count": 25
  },
  {
   "metadata": {
    "ExecuteTime": {
     "end_time": "2025-02-23T03:52:32.235443Z",
     "start_time": "2025-02-23T03:52:32.231803Z"
    }
   },
   "cell_type": "code",
   "source": [
    "class Logger:\n",
    "    current_time_utc = TimeInfo()"
   ],
   "id": "f14c24669ee25eac",
   "outputs": [],
   "execution_count": 26
  },
  {
   "metadata": {
    "ExecuteTime": {
     "end_time": "2025-02-23T03:52:32.601168Z",
     "start_time": "2025-02-23T03:52:32.595283Z"
    }
   },
   "cell_type": "code",
   "source": [
    "l = Logger()\n",
    "\n",
    "l.current_time_utc"
   ],
   "id": "dd77c75eccacb085",
   "outputs": [
    {
     "data": {
      "text/plain": [
       "'2025-02-23T03:52:32.596772+00:00'"
      ]
     },
     "execution_count": 27,
     "metadata": {},
     "output_type": "execute_result"
    }
   ],
   "execution_count": 27
  },
  {
   "metadata": {
    "ExecuteTime": {
     "end_time": "2025-02-23T03:52:42.302969Z",
     "start_time": "2025-02-23T03:52:42.299738Z"
    }
   },
   "cell_type": "code",
   "source": "l2 = Logger()",
   "id": "34f7e8a1d9481733",
   "outputs": [],
   "execution_count": 28
  },
  {
   "metadata": {
    "ExecuteTime": {
     "end_time": "2025-02-23T03:52:45.263001Z",
     "start_time": "2025-02-23T03:52:45.258669Z"
    }
   },
   "cell_type": "code",
   "source": "l2.current_time_utc",
   "id": "13ec61f758be35dd",
   "outputs": [
    {
     "data": {
      "text/plain": [
       "'2025-02-23T03:52:45.259839+00:00'"
      ]
     },
     "execution_count": 29,
     "metadata": {},
     "output_type": "execute_result"
    }
   ],
   "execution_count": 29
  },
  {
   "metadata": {},
   "cell_type": "code",
   "outputs": [],
   "execution_count": null,
   "source": "",
   "id": "2a6b684fbe148745"
  }
 ],
 "metadata": {
  "kernelspec": {
   "display_name": "Python 3",
   "language": "python",
   "name": "python3"
  },
  "language_info": {
   "codemirror_mode": {
    "name": "ipython",
    "version": 2
   },
   "file_extension": ".py",
   "mimetype": "text/x-python",
   "name": "python",
   "nbconvert_exporter": "python",
   "pygments_lexer": "ipython2",
   "version": "2.7.6"
  }
 },
 "nbformat": 4,
 "nbformat_minor": 5
}
