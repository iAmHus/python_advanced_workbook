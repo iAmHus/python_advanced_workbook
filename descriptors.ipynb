{
 "cells": [
  {
   "cell_type": "code",
   "id": "initial_id",
   "metadata": {
    "collapsed": true,
    "ExecuteTime": {
     "end_time": "2025-02-23T03:52:31.824038Z",
     "start_time": "2025-02-23T03:52:31.819612Z"
    }
   },
   "source": [
    "from datetime import datetime, timezone\n",
    "from weakref import WeakKeyDictionary\n",
    "\n",
    "\n",
    "class TimeInfo:\n",
    "    def __get__(self, instance, owner):\n",
    "        if not instance:\n",
    "            return self\n",
    "        else:\n",
    "            return datetime.now(timezone.utc).isoformat()"
   ],
   "outputs": [],
   "execution_count": 25
  },
  {
   "metadata": {
    "ExecuteTime": {
     "end_time": "2025-02-23T03:52:32.235443Z",
     "start_time": "2025-02-23T03:52:32.231803Z"
    }
   },
   "cell_type": "code",
   "source": [
    "class Logger:\n",
    "    current_time_utc = TimeInfo()"
   ],
   "id": "f14c24669ee25eac",
   "outputs": [],
   "execution_count": 26
  },
  {
   "metadata": {
    "ExecuteTime": {
     "end_time": "2025-02-23T03:52:32.601168Z",
     "start_time": "2025-02-23T03:52:32.595283Z"
    }
   },
   "cell_type": "code",
   "source": [
    "l = Logger()\n",
    "\n",
    "l.current_time_utc"
   ],
   "id": "dd77c75eccacb085",
   "outputs": [
    {
     "data": {
      "text/plain": [
       "'2025-02-23T03:52:32.596772+00:00'"
      ]
     },
     "execution_count": 27,
     "metadata": {},
     "output_type": "execute_result"
    }
   ],
   "execution_count": 27
  },
  {
   "metadata": {
    "ExecuteTime": {
     "end_time": "2025-02-23T03:52:42.302969Z",
     "start_time": "2025-02-23T03:52:42.299738Z"
    }
   },
   "cell_type": "code",
   "source": "l2 = Logger()",
   "id": "34f7e8a1d9481733",
   "outputs": [],
   "execution_count": 28
  },
  {
   "metadata": {
    "ExecuteTime": {
     "end_time": "2025-02-23T03:52:45.263001Z",
     "start_time": "2025-02-23T03:52:45.258669Z"
    }
   },
   "cell_type": "code",
   "source": "l2.current_time_utc",
   "id": "13ec61f758be35dd",
   "outputs": [
    {
     "data": {
      "text/plain": [
       "'2025-02-23T03:52:45.259839+00:00'"
      ]
     },
     "execution_count": 29,
     "metadata": {},
     "output_type": "execute_result"
    }
   ],
   "execution_count": 29
  },
  {
   "metadata": {
    "ExecuteTime": {
     "end_time": "2025-02-24T03:09:55.417923Z",
     "start_time": "2025-02-24T03:09:55.414739Z"
    }
   },
   "cell_type": "code",
   "source": "",
   "id": "2a6b684fbe148745",
   "outputs": [],
   "execution_count": null
  },
  {
   "metadata": {
    "ExecuteTime": {
     "end_time": "2025-02-24T03:10:29.596687Z",
     "start_time": "2025-02-24T03:10:29.593705Z"
    }
   },
   "cell_type": "code",
   "source": "# Data Descriptors !!",
   "id": "72b11c76e3e147fa",
   "outputs": [],
   "execution_count": 36
  },
  {
   "metadata": {
    "ExecuteTime": {
     "end_time": "2025-02-24T03:10:31.698841Z",
     "start_time": "2025-02-24T03:10:31.693682Z"
    }
   },
   "cell_type": "code",
   "source": [
    "class IntegerValue:\n",
    "\n",
    "    def __init__(self):\n",
    "        self.dict = {}\n",
    "\n",
    "    def __set__(self, instance, value):\n",
    "        self.dict[instance] = value\n",
    "\n",
    "    def __get__(self, instance, owner):\n",
    "        if not instance:\n",
    "            return self\n",
    "        else:\n",
    "            return self.dict[instance]"
   ],
   "id": "b07f039fce07abe8",
   "outputs": [],
   "execution_count": 37
  },
  {
   "metadata": {
    "ExecuteTime": {
     "end_time": "2025-02-24T03:10:32.415073Z",
     "start_time": "2025-02-24T03:10:32.412398Z"
    }
   },
   "cell_type": "code",
   "source": "",
   "id": "bcb263f24aef2f6a",
   "outputs": [],
   "execution_count": null
  },
  {
   "metadata": {
    "ExecuteTime": {
     "end_time": "2025-02-24T03:10:33.152467Z",
     "start_time": "2025-02-24T03:10:33.148308Z"
    }
   },
   "cell_type": "code",
   "source": [
    "class Point2D:\n",
    "    x = IntegerValue()\n",
    "    y = IntegerValue()"
   ],
   "id": "837718588ad15d9b",
   "outputs": [],
   "execution_count": 38
  },
  {
   "metadata": {
    "ExecuteTime": {
     "end_time": "2025-02-24T03:10:34.263138Z",
     "start_time": "2025-02-24T03:10:34.259603Z"
    }
   },
   "cell_type": "code",
   "source": "p1 = Point2D()",
   "id": "34bf8800e979d8bf",
   "outputs": [],
   "execution_count": 39
  },
  {
   "metadata": {
    "ExecuteTime": {
     "end_time": "2025-02-24T03:10:34.642108Z",
     "start_time": "2025-02-24T03:10:34.638711Z"
    }
   },
   "cell_type": "code",
   "source": "p2 = Point2D()",
   "id": "80687939bffd439f",
   "outputs": [],
   "execution_count": 40
  },
  {
   "metadata": {
    "ExecuteTime": {
     "end_time": "2025-02-24T03:11:56.106459Z",
     "start_time": "2025-02-24T03:11:56.101002Z"
    }
   },
   "cell_type": "code",
   "source": "",
   "id": "bc7d1f6905e6e5b8",
   "outputs": [],
   "execution_count": null
  },
  {
   "metadata": {
    "ExecuteTime": {
     "end_time": "2025-02-24T03:12:05.900346Z",
     "start_time": "2025-02-24T03:12:05.896967Z"
    }
   },
   "cell_type": "code",
   "source": [
    "p1.x = 20\n",
    "p2.y = 30"
   ],
   "id": "b21d8c96f2d08cbd",
   "outputs": [],
   "execution_count": 41
  },
  {
   "metadata": {
    "ExecuteTime": {
     "end_time": "2025-02-24T03:12:06.624217Z",
     "start_time": "2025-02-24T03:12:06.621685Z"
    }
   },
   "cell_type": "code",
   "source": "",
   "id": "a3b4983825f43abc",
   "outputs": [],
   "execution_count": null
  },
  {
   "metadata": {
    "ExecuteTime": {
     "end_time": "2025-02-24T03:12:35.103575Z",
     "start_time": "2025-02-24T03:12:35.100250Z"
    }
   },
   "cell_type": "code",
   "source": [
    "p2.x = 40\n",
    "p2.y = 50"
   ],
   "id": "25578ef67e830126",
   "outputs": [],
   "execution_count": 42
  },
  {
   "metadata": {
    "ExecuteTime": {
     "end_time": "2025-02-24T03:12:37.025280Z",
     "start_time": "2025-02-24T03:12:37.022436Z"
    }
   },
   "cell_type": "code",
   "source": "",
   "id": "ce37356c1d23a555",
   "outputs": [],
   "execution_count": null
  },
  {
   "metadata": {
    "ExecuteTime": {
     "end_time": "2025-02-24T03:14:00.109064Z",
     "start_time": "2025-02-24T03:14:00.104045Z"
    }
   },
   "cell_type": "code",
   "source": "(p2.x, p2.y)",
   "id": "8d8739c8e5dcb6",
   "outputs": [
    {
     "data": {
      "text/plain": [
       "(40, 50)"
      ]
     },
     "execution_count": 45,
     "metadata": {},
     "output_type": "execute_result"
    }
   ],
   "execution_count": 45
  },
  {
   "metadata": {
    "ExecuteTime": {
     "end_time": "2025-03-01T03:50:06.096185Z",
     "start_time": "2025-03-01T03:50:06.085339Z"
    }
   },
   "cell_type": "code",
   "source": "",
   "id": "f0d4c25ebb047119",
   "outputs": [],
   "execution_count": null
  },
  {
   "metadata": {
    "ExecuteTime": {
     "end_time": "2025-03-01T03:50:14.300511Z",
     "start_time": "2025-03-01T03:50:14.294554Z"
    }
   },
   "cell_type": "code",
   "source": "import weakref",
   "id": "1ecabd7b71cb888d",
   "outputs": [],
   "execution_count": 46
  },
  {
   "metadata": {
    "ExecuteTime": {
     "end_time": "2025-03-01T03:50:28.229416Z",
     "start_time": "2025-03-01T03:50:28.225570Z"
    }
   },
   "cell_type": "code",
   "source": "p3 = Point2D()",
   "id": "a5e731aa998ad7ce",
   "outputs": [],
   "execution_count": 47
  },
  {
   "metadata": {
    "ExecuteTime": {
     "end_time": "2025-03-01T03:50:58.735581Z",
     "start_time": "2025-03-01T03:50:58.731991Z"
    }
   },
   "cell_type": "code",
   "source": "p4 = weakref.ref(p3)",
   "id": "d6586d95b7a8e9c4",
   "outputs": [],
   "execution_count": 49
  },
  {
   "metadata": {
    "ExecuteTime": {
     "end_time": "2025-03-01T03:51:02.664746Z",
     "start_time": "2025-03-01T03:51:02.659279Z"
    }
   },
   "cell_type": "code",
   "source": "p4",
   "id": "a859978cd67d6681",
   "outputs": [
    {
     "data": {
      "text/plain": [
       "<weakref at 0x10b84e6b0; to 'Point2D' at 0x10b28dd80>"
      ]
     },
     "execution_count": 50,
     "metadata": {},
     "output_type": "execute_result"
    }
   ],
   "execution_count": 50
  },
  {
   "metadata": {
    "ExecuteTime": {
     "end_time": "2025-03-03T03:45:12.230595Z",
     "start_time": "2025-03-03T03:45:12.226730Z"
    }
   },
   "cell_type": "code",
   "source": [
    "from weakref import WeakKeyDictionary\n",
    "\n",
    "d = WeakKeyDictionary()"
   ],
   "id": "e73e4a96faf6c868",
   "outputs": [],
   "execution_count": 53
  },
  {
   "metadata": {},
   "cell_type": "code",
   "outputs": [],
   "execution_count": null,
   "source": "d[p4] = 'Test value'",
   "id": "6d6f3a7795d3ffe9"
  }
 ],
 "metadata": {
  "kernelspec": {
   "display_name": "Python 3",
   "language": "python",
   "name": "python3"
  },
  "language_info": {
   "codemirror_mode": {
    "name": "ipython",
    "version": 2
   },
   "file_extension": ".py",
   "mimetype": "text/x-python",
   "name": "python",
   "nbconvert_exporter": "python",
   "pygments_lexer": "ipython2",
   "version": "2.7.6"
  }
 },
 "nbformat": 4,
 "nbformat_minor": 5
}
