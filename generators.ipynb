{
 "cells": [
  {
   "cell_type": "code",
   "id": "initial_id",
   "metadata": {
    "collapsed": true,
    "ExecuteTime": {
     "end_time": "2025-01-28T03:54:02.403989Z",
     "start_time": "2025-01-28T03:54:02.399754Z"
    }
   },
   "source": "## Simple generator",
   "outputs": [],
   "execution_count": 1
  },
  {
   "metadata": {
    "ExecuteTime": {
     "end_time": "2025-01-28T03:56:01.718836Z",
     "start_time": "2025-01-28T03:56:01.714634Z"
    }
   },
   "cell_type": "code",
   "source": [
    "def squares(n):\n",
    "    for i in range(n):\n",
    "        yield i ** 2"
   ],
   "id": "3378c5a1273c95b3",
   "outputs": [],
   "execution_count": 7
  },
  {
   "metadata": {
    "ExecuteTime": {
     "end_time": "2025-01-28T03:56:02.846562Z",
     "start_time": "2025-01-28T03:56:02.840790Z"
    }
   },
   "cell_type": "code",
   "source": "squares(5)",
   "id": "f46055f0c9238bc7",
   "outputs": [
    {
     "data": {
      "text/plain": [
       "<generator object squares at 0x10504d9a0>"
      ]
     },
     "execution_count": 8,
     "metadata": {},
     "output_type": "execute_result"
    }
   ],
   "execution_count": 8
  },
  {
   "metadata": {
    "ExecuteTime": {
     "end_time": "2025-01-28T03:56:03.576690Z",
     "start_time": "2025-01-28T03:56:03.572151Z"
    }
   },
   "cell_type": "code",
   "source": [
    "for x in squares(5):\n",
    "    print(x)"
   ],
   "id": "46425b82a0fbb71d",
   "outputs": [
    {
     "name": "stdout",
     "output_type": "stream",
     "text": [
      "0\n",
      "1\n",
      "4\n",
      "9\n",
      "16\n"
     ]
    }
   ],
   "execution_count": 9
  },
  {
   "metadata": {},
   "cell_type": "code",
   "outputs": [],
   "execution_count": null,
   "source": "",
   "id": "950a0816fd9b65eb"
  }
 ],
 "metadata": {
  "kernelspec": {
   "display_name": "Python 3",
   "language": "python",
   "name": "python3"
  },
  "language_info": {
   "codemirror_mode": {
    "name": "ipython",
    "version": 2
   },
   "file_extension": ".py",
   "mimetype": "text/x-python",
   "name": "python",
   "nbconvert_exporter": "python",
   "pygments_lexer": "ipython2",
   "version": "2.7.6"
  }
 },
 "nbformat": 4,
 "nbformat_minor": 5
}
