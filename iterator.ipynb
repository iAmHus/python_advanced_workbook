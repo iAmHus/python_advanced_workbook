{
 "cells": [
  {
   "cell_type": "code",
   "id": "initial_id",
   "metadata": {
    "collapsed": true,
    "ExecuteTime": {
     "end_time": "2025-01-19T02:48:53.604631Z",
     "start_time": "2025-01-19T02:48:53.597657Z"
    }
   },
   "source": [
    "class CarIterator:\n",
    "    def __init__(self, cars):\n",
    "        self._cars = cars\n",
    "        self._index = 0\n",
    "\n",
    "    def __iter__(self):\n",
    "        return self\n",
    "\n",
    "    def __next__(self):\n",
    "        if self._index >= len(self._cars):\n",
    "            raise StopIteration\n",
    "        else:\n",
    "            item = self._cars[self._index]\n",
    "            self._index += 1\n",
    "            return item\n",
    "\n",
    "\n",
    "class Car:\n",
    "    def __init__(self, name):\n",
    "        self.name = name\n",
    "\n",
    "    def __iter__(self):\n",
    "        return CarIterator(self)\n",
    "\n",
    "    def __repr__(self):\n",
    "        return self.name"
   ],
   "outputs": [],
   "execution_count": 7
  },
  {
   "metadata": {
    "ExecuteTime": {
     "end_time": "2025-01-19T02:48:54.099016Z",
     "start_time": "2025-01-19T02:48:54.094179Z"
    }
   },
   "cell_type": "code",
   "source": "cars = [Car('Audi'), Car('BMW'), Car('Toyota'), Car('Mazda')]",
   "id": "8b87e5f4da51a18",
   "outputs": [],
   "execution_count": 8
  },
  {
   "metadata": {
    "ExecuteTime": {
     "end_time": "2025-01-19T03:01:38.953806Z",
     "start_time": "2025-01-19T03:01:38.949725Z"
    }
   },
   "cell_type": "code",
   "source": "car_iterator = CarIterator(cars)",
   "id": "537580c3a6df660b",
   "outputs": [],
   "execution_count": 12
  },
  {
   "metadata": {
    "ExecuteTime": {
     "end_time": "2025-01-19T03:01:39.464625Z",
     "start_time": "2025-01-19T03:01:39.458868Z"
    }
   },
   "cell_type": "code",
   "source": [
    "for car in car_iterator:\n",
    "    print(car)"
   ],
   "id": "963a981b16b7a612",
   "outputs": [
    {
     "name": "stdout",
     "output_type": "stream",
     "text": [
      "Audi\n",
      "BMW\n",
      "Toyota\n",
      "Mazda\n"
     ]
    }
   ],
   "execution_count": 13
  },
  {
   "metadata": {
    "ExecuteTime": {
     "end_time": "2025-01-19T03:01:55.576150Z",
     "start_time": "2025-01-19T03:01:55.572546Z"
    }
   },
   "cell_type": "code",
   "source": "car_iterator2 = CarIterator(cars)",
   "id": "b76c8d74ae1e268f",
   "outputs": [],
   "execution_count": 14
  },
  {
   "metadata": {
    "ExecuteTime": {
     "end_time": "2025-01-19T03:02:09.390397Z",
     "start_time": "2025-01-19T03:02:09.381807Z"
    }
   },
   "cell_type": "code",
   "source": "next(car_iterator2)",
   "id": "fbc4b67aace671e7",
   "outputs": [
    {
     "data": {
      "text/plain": [
       "Audi"
      ]
     },
     "execution_count": 15,
     "metadata": {},
     "output_type": "execute_result"
    }
   ],
   "execution_count": 15
  },
  {
   "metadata": {
    "ExecuteTime": {
     "end_time": "2025-01-19T03:02:14.253401Z",
     "start_time": "2025-01-19T03:02:14.247127Z"
    }
   },
   "cell_type": "code",
   "source": "next(car_iterator2)\n",
   "id": "950c9419ab781507",
   "outputs": [
    {
     "data": {
      "text/plain": [
       "BMW"
      ]
     },
     "execution_count": 16,
     "metadata": {},
     "output_type": "execute_result"
    }
   ],
   "execution_count": 16
  },
  {
   "metadata": {
    "ExecuteTime": {
     "end_time": "2025-01-19T03:02:16.125696Z",
     "start_time": "2025-01-19T03:02:16.120340Z"
    }
   },
   "cell_type": "code",
   "source": "next(car_iterator2)\n",
   "id": "43675d7a8687fa1",
   "outputs": [
    {
     "data": {
      "text/plain": [
       "Toyota"
      ]
     },
     "execution_count": 17,
     "metadata": {},
     "output_type": "execute_result"
    }
   ],
   "execution_count": 17
  },
  {
   "metadata": {
    "ExecuteTime": {
     "end_time": "2025-01-19T03:02:17.449247Z",
     "start_time": "2025-01-19T03:02:17.443390Z"
    }
   },
   "cell_type": "code",
   "source": "next(car_iterator2)\n",
   "id": "f205b4e7eb35e63e",
   "outputs": [
    {
     "data": {
      "text/plain": [
       "Mazda"
      ]
     },
     "execution_count": 18,
     "metadata": {},
     "output_type": "execute_result"
    }
   ],
   "execution_count": 18
  },
  {
   "metadata": {
    "ExecuteTime": {
     "end_time": "2025-01-19T03:02:21.733780Z",
     "start_time": "2025-01-19T03:02:21.698356Z"
    }
   },
   "cell_type": "code",
   "source": "next(car_iterator2)",
   "id": "813803ee2ce7f20d",
   "outputs": [
    {
     "ename": "StopIteration",
     "evalue": "",
     "output_type": "error",
     "traceback": [
      "\u001B[0;31m---------------------------------------------------------------------------\u001B[0m",
      "\u001B[0;31mStopIteration\u001B[0m                             Traceback (most recent call last)",
      "Cell \u001B[0;32mIn[19], line 1\u001B[0m\n\u001B[0;32m----> 1\u001B[0m \u001B[38;5;28;43mnext\u001B[39;49m\u001B[43m(\u001B[49m\u001B[43mcar_iterator2\u001B[49m\u001B[43m)\u001B[49m\n",
      "Cell \u001B[0;32mIn[7], line 11\u001B[0m, in \u001B[0;36mCarIterator.__next__\u001B[0;34m(self)\u001B[0m\n\u001B[1;32m      9\u001B[0m \u001B[38;5;28;01mdef\u001B[39;00m\u001B[38;5;250m \u001B[39m\u001B[38;5;21m__next__\u001B[39m(\u001B[38;5;28mself\u001B[39m):\n\u001B[1;32m     10\u001B[0m     \u001B[38;5;28;01mif\u001B[39;00m \u001B[38;5;28mself\u001B[39m\u001B[38;5;241m.\u001B[39m_index \u001B[38;5;241m>\u001B[39m\u001B[38;5;241m=\u001B[39m \u001B[38;5;28mlen\u001B[39m(\u001B[38;5;28mself\u001B[39m\u001B[38;5;241m.\u001B[39m_car):\n\u001B[0;32m---> 11\u001B[0m         \u001B[38;5;28;01mraise\u001B[39;00m \u001B[38;5;167;01mStopIteration\u001B[39;00m\n\u001B[1;32m     12\u001B[0m     \u001B[38;5;28;01melse\u001B[39;00m:\n\u001B[1;32m     13\u001B[0m         item \u001B[38;5;241m=\u001B[39m \u001B[38;5;28mself\u001B[39m\u001B[38;5;241m.\u001B[39m_car[\u001B[38;5;28mself\u001B[39m\u001B[38;5;241m.\u001B[39m_index]\n",
      "\u001B[0;31mStopIteration\u001B[0m: "
     ]
    }
   ],
   "execution_count": 19
  },
  {
   "metadata": {
    "ExecuteTime": {
     "end_time": "2025-01-20T03:24:31.738204Z",
     "start_time": "2025-01-20T03:24:31.735182Z"
    }
   },
   "cell_type": "code",
   "source": "## Making the iterator part of the Custom Iterable",
   "id": "42a6a7e88dc8a99c",
   "outputs": [],
   "execution_count": 20
  },
  {
   "metadata": {
    "ExecuteTime": {
     "end_time": "2025-01-20T03:55:44.563617Z",
     "start_time": "2025-01-20T03:55:44.556902Z"
    }
   },
   "cell_type": "code",
   "source": [
    "import random\n",
    "\n",
    "class RandomNumber:\n",
    "    def __init__(self, len, min = 0, max = 0):\n",
    "        self._len = len\n",
    "        self._min = min\n",
    "        self._max = max\n",
    "\n",
    "    def __len__(self):\n",
    "        return self._len\n",
    "\n",
    "    def __iter__(self):\n",
    "        return self.RandomNumberIterator(self)\n",
    "\n",
    "    def get_range(self):\n",
    "        return self._min, self._max\n",
    "\n",
    "    class RandomNumberIterator:\n",
    "        def __init__(self, randNum):\n",
    "            self._randNum = randNum\n",
    "            self._iter_min, self._iter_max = randNum.get_range()\n",
    "            self._index = 0\n",
    "\n",
    "        def __iter__(self):\n",
    "            return self\n",
    "\n",
    "        def __next__(self):\n",
    "            if self._index >= len(self._randNum):\n",
    "                raise StopIteration\n",
    "            else:\n",
    "                result = random.randint(self._iter_min, self._iter_max)\n",
    "                self._index += 1\n",
    "                return result"
   ],
   "id": "f1496129aef88839",
   "outputs": [],
   "execution_count": 37
  },
  {
   "metadata": {
    "ExecuteTime": {
     "end_time": "2025-01-20T03:55:45.274541Z",
     "start_time": "2025-01-20T03:55:45.270310Z"
    }
   },
   "cell_type": "code",
   "source": [
    "for index, random_num in enumerate(RandomNumber(len=7, min=0, max=19)):\n",
    "    print(f\"Index: {index} - {random_num}\")"
   ],
   "id": "ddcd02efd8321210",
   "outputs": [
    {
     "name": "stdout",
     "output_type": "stream",
     "text": [
      "Index: 0 - 11\n",
      "Index: 1 - 14\n",
      "Index: 2 - 18\n",
      "Index: 3 - 10\n",
      "Index: 4 - 9\n",
      "Index: 5 - 14\n",
      "Index: 6 - 11\n"
     ]
    }
   ],
   "execution_count": 38
  },
  {
   "metadata": {
    "ExecuteTime": {
     "end_time": "2025-01-21T04:04:22.416063Z",
     "start_time": "2025-01-21T04:04:22.410235Z"
    }
   },
   "cell_type": "code",
   "source": "",
   "id": "72b4711b311ef550",
   "outputs": [],
   "execution_count": null
  },
  {
   "metadata": {
    "ExecuteTime": {
     "end_time": "2025-01-21T04:04:32.274449Z",
     "start_time": "2025-01-21T04:04:32.270868Z"
    }
   },
   "cell_type": "code",
   "source": "### cyclic iterators (infinite iterators) - like randomπ",
   "id": "2e61faad01d9038",
   "outputs": [],
   "execution_count": 1
  },
  {
   "metadata": {
    "ExecuteTime": {
     "end_time": "2025-01-21T04:07:46.380290Z",
     "start_time": "2025-01-21T04:07:46.371361Z"
    }
   },
   "cell_type": "code",
   "source": [
    "from itertools import cycle\n",
    "\n",
    "cycle_input = cycle('MSABCXZDE')\n",
    "print(cycle_input)"
   ],
   "id": "5210085f141614a",
   "outputs": [
    {
     "name": "stdout",
     "output_type": "stream",
     "text": [
      "<itertools.cycle object at 0x10f8599c0>\n"
     ]
    }
   ],
   "execution_count": 1
  },
  {
   "metadata": {
    "ExecuteTime": {
     "end_time": "2025-01-21T04:07:46.460356Z",
     "start_time": "2025-01-21T04:07:46.455269Z"
    }
   },
   "cell_type": "code",
   "source": [
    "for index, input in enumerate(cycle_input):\n",
    "    print(input)\n",
    "    if index >= 10:\n",
    "        break"
   ],
   "id": "93290beb5324355a",
   "outputs": [
    {
     "name": "stdout",
     "output_type": "stream",
     "text": [
      "M\n",
      "S\n",
      "A\n",
      "B\n",
      "C\n",
      "X\n",
      "Z\n",
      "D\n",
      "E\n",
      "M\n",
      "S\n"
     ]
    }
   ],
   "execution_count": 2
  },
  {
   "metadata": {
    "ExecuteTime": {
     "end_time": "2025-01-21T04:12:27.184110Z",
     "start_time": "2025-01-21T04:12:27.179105Z"
    }
   },
   "cell_type": "code",
   "source": "[f'{i}{next(cycle_input)}' for i in range(1, 10)]",
   "id": "442f552031d501f0",
   "outputs": [
    {
     "data": {
      "text/plain": [
       "['1A', '2B', '3C', '4X', '5Z', '6D', '7E', '8M', '9S']"
      ]
     },
     "execution_count": 7,
     "metadata": {},
     "output_type": "execute_result"
    }
   ],
   "execution_count": 7
  },
  {
   "metadata": {
    "ExecuteTime": {
     "end_time": "2025-01-23T03:59:39.950489Z",
     "start_time": "2025-01-23T03:59:39.947727Z"
    }
   },
   "cell_type": "code",
   "source": "",
   "id": "cc15594abdc2cfbf",
   "outputs": [],
   "execution_count": null
  },
  {
   "metadata": {
    "ExecuteTime": {
     "end_time": "2025-01-23T03:59:40.672256Z",
     "start_time": "2025-01-23T03:59:40.670065Z"
    }
   },
   "cell_type": "code",
   "source": "# Using iter method to create iterators on natural sequences",
   "id": "be31642c68997185",
   "outputs": [],
   "execution_count": null
  },
  {
   "metadata": {
    "ExecuteTime": {
     "end_time": "2025-01-23T04:00:52.162998Z",
     "start_time": "2025-01-23T04:00:52.158136Z"
    }
   },
   "cell_type": "code",
   "source": [
    "class BigCities:\n",
    "    def __init__(self, cities: list[str]):\n",
    "        self._cities = cities\n",
    "\n",
    "    def __iter__(self):\n",
    "        return iter(self._cities)\n"
   ],
   "id": "da6eda2845c3ff3e",
   "outputs": [],
   "execution_count": 1
  },
  {
   "metadata": {
    "ExecuteTime": {
     "end_time": "2025-01-23T04:03:11.945250Z",
     "start_time": "2025-01-23T04:03:11.941692Z"
    }
   },
   "cell_type": "code",
   "source": "big_cities = BigCities(cities=['Toronto', 'New York', 'Montreal', 'Detroit'])",
   "id": "d8cc80f16daa3d77",
   "outputs": [],
   "execution_count": 2
  },
  {
   "metadata": {
    "ExecuteTime": {
     "end_time": "2025-01-23T04:03:25.107775Z",
     "start_time": "2025-01-23T04:03:25.104382Z"
    }
   },
   "cell_type": "code",
   "source": [
    "for city in big_cities:\n",
    "    print(city)"
   ],
   "id": "df186f6f9d3860aa",
   "outputs": [
    {
     "name": "stdout",
     "output_type": "stream",
     "text": [
      "Toronto\n",
      "New York\n",
      "Montreal\n",
      "Detroit\n"
     ]
    }
   ],
   "execution_count": 3
  },
  {
   "metadata": {
    "ExecuteTime": {
     "end_time": "2025-01-24T02:52:08.988333Z",
     "start_time": "2025-01-24T02:52:08.985479Z"
    }
   },
   "cell_type": "code",
   "source": "",
   "id": "e786639334e0d84d",
   "outputs": [],
   "execution_count": null
  },
  {
   "metadata": {
    "ExecuteTime": {
     "end_time": "2025-01-24T03:47:28.629845Z",
     "start_time": "2025-01-24T03:47:28.626447Z"
    }
   },
   "cell_type": "code",
   "source": "## reversable iterables",
   "id": "b08db0369a85d648",
   "outputs": [],
   "execution_count": 4
  },
  {
   "metadata": {
    "ExecuteTime": {
     "end_time": "2025-01-24T03:54:34.955404Z",
     "start_time": "2025-01-24T03:54:34.950807Z"
    }
   },
   "cell_type": "code",
   "source": [
    "class ReversableCities:\n",
    "    def __init__(self, city_list):\n",
    "        self._city_list = city_list\n",
    "\n",
    "    def __getitem__(self, index):\n",
    "        return self._city_list[index]\n",
    "\n",
    "    def __len__(self):\n",
    "        return len(self._city_list)\n",
    "\n",
    "    def __reversed__(self):\n",
    "        return reversed(self._city_list)"
   ],
   "id": "38e40068f8d445f2",
   "outputs": [],
   "execution_count": 9
  },
  {
   "metadata": {
    "ExecuteTime": {
     "end_time": "2025-01-24T03:54:35.679790Z",
     "start_time": "2025-01-24T03:54:35.676499Z"
    }
   },
   "cell_type": "code",
   "source": "city_list = ['Toronto', 'New York', 'Montreal', 'Detroit', \"Tokyo\"]",
   "id": "8206128c11ab7e21",
   "outputs": [],
   "execution_count": 10
  },
  {
   "metadata": {
    "ExecuteTime": {
     "end_time": "2025-01-24T03:54:36.714211Z",
     "start_time": "2025-01-24T03:54:36.710815Z"
    }
   },
   "cell_type": "code",
   "source": "reversable_cities = ReversableCities(city_list)",
   "id": "7a4ee33e4daad20",
   "outputs": [],
   "execution_count": 11
  },
  {
   "metadata": {
    "ExecuteTime": {
     "end_time": "2025-01-24T03:54:38.064827Z",
     "start_time": "2025-01-24T03:54:38.056233Z"
    }
   },
   "cell_type": "code",
   "source": "reversable_cities[::-1]",
   "id": "365b6ef998519b84",
   "outputs": [
    {
     "data": {
      "text/plain": [
       "['Tokyo', 'Detroit', 'Montreal', 'New York', 'Toronto']"
      ]
     },
     "execution_count": 12,
     "metadata": {},
     "output_type": "execute_result"
    }
   ],
   "execution_count": 12
  },
  {
   "metadata": {},
   "cell_type": "code",
   "outputs": [],
   "execution_count": null,
   "source": "",
   "id": "5541dc8d791086c7"
  }
 ],
 "metadata": {
  "kernelspec": {
   "display_name": "Python 3",
   "language": "python",
   "name": "python3"
  },
  "language_info": {
   "codemirror_mode": {
    "name": "ipython",
    "version": 2
   },
   "file_extension": ".py",
   "mimetype": "text/x-python",
   "name": "python",
   "nbconvert_exporter": "python",
   "pygments_lexer": "ipython2",
   "version": "2.7.6"
  }
 },
 "nbformat": 4,
 "nbformat_minor": 5
}
