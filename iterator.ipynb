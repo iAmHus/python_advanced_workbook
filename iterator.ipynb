{
 "cells": [
  {
   "cell_type": "code",
   "id": "initial_id",
   "metadata": {
    "collapsed": true,
    "ExecuteTime": {
     "end_time": "2025-01-19T02:48:53.604631Z",
     "start_time": "2025-01-19T02:48:53.597657Z"
    }
   },
   "source": [
    "class CarIterator:\n",
    "    def __init__(self, cars):\n",
    "        self._cars = cars\n",
    "        self._index = 0\n",
    "\n",
    "    def __iter__(self):\n",
    "        return self\n",
    "\n",
    "    def __next__(self):\n",
    "        if self._index >= len(self._cars):\n",
    "            raise StopIteration\n",
    "        else:\n",
    "            item = self._cars[self._index]\n",
    "            self._index += 1\n",
    "            return item\n",
    "\n",
    "\n",
    "class Car:\n",
    "    def __init__(self, name):\n",
    "        self.name = name\n",
    "\n",
    "    def __iter__(self):\n",
    "        return CarIterator(self)\n",
    "\n",
    "    def __repr__(self):\n",
    "        return self.name"
   ],
   "outputs": [],
   "execution_count": 7
  },
  {
   "metadata": {
    "ExecuteTime": {
     "end_time": "2025-01-19T02:48:54.099016Z",
     "start_time": "2025-01-19T02:48:54.094179Z"
    }
   },
   "cell_type": "code",
   "source": "cars = [Car('Audi'), Car('BMW'), Car('Toyota'), Car('Mazda')]",
   "id": "8b87e5f4da51a18",
   "outputs": [],
   "execution_count": 8
  },
  {
   "metadata": {
    "ExecuteTime": {
     "end_time": "2025-01-19T03:01:38.953806Z",
     "start_time": "2025-01-19T03:01:38.949725Z"
    }
   },
   "cell_type": "code",
   "source": "car_iterator = CarIterator(cars)",
   "id": "537580c3a6df660b",
   "outputs": [],
   "execution_count": 12
  },
  {
   "metadata": {
    "ExecuteTime": {
     "end_time": "2025-01-19T03:01:39.464625Z",
     "start_time": "2025-01-19T03:01:39.458868Z"
    }
   },
   "cell_type": "code",
   "source": [
    "for car in car_iterator:\n",
    "    print(car)"
   ],
   "id": "963a981b16b7a612",
   "outputs": [
    {
     "name": "stdout",
     "output_type": "stream",
     "text": [
      "Audi\n",
      "BMW\n",
      "Toyota\n",
      "Mazda\n"
     ]
    }
   ],
   "execution_count": 13
  },
  {
   "metadata": {
    "ExecuteTime": {
     "end_time": "2025-01-19T03:01:55.576150Z",
     "start_time": "2025-01-19T03:01:55.572546Z"
    }
   },
   "cell_type": "code",
   "source": "car_iterator2 = CarIterator(cars)",
   "id": "b76c8d74ae1e268f",
   "outputs": [],
   "execution_count": 14
  },
  {
   "metadata": {
    "ExecuteTime": {
     "end_time": "2025-01-19T03:02:09.390397Z",
     "start_time": "2025-01-19T03:02:09.381807Z"
    }
   },
   "cell_type": "code",
   "source": "next(car_iterator2)",
   "id": "fbc4b67aace671e7",
   "outputs": [
    {
     "data": {
      "text/plain": [
       "Audi"
      ]
     },
     "execution_count": 15,
     "metadata": {},
     "output_type": "execute_result"
    }
   ],
   "execution_count": 15
  },
  {
   "metadata": {
    "ExecuteTime": {
     "end_time": "2025-01-19T03:02:14.253401Z",
     "start_time": "2025-01-19T03:02:14.247127Z"
    }
   },
   "cell_type": "code",
   "source": "next(car_iterator2)\n",
   "id": "950c9419ab781507",
   "outputs": [
    {
     "data": {
      "text/plain": [
       "BMW"
      ]
     },
     "execution_count": 16,
     "metadata": {},
     "output_type": "execute_result"
    }
   ],
   "execution_count": 16
  },
  {
   "metadata": {
    "ExecuteTime": {
     "end_time": "2025-01-19T03:02:16.125696Z",
     "start_time": "2025-01-19T03:02:16.120340Z"
    }
   },
   "cell_type": "code",
   "source": "next(car_iterator2)\n",
   "id": "43675d7a8687fa1",
   "outputs": [
    {
     "data": {
      "text/plain": [
       "Toyota"
      ]
     },
     "execution_count": 17,
     "metadata": {},
     "output_type": "execute_result"
    }
   ],
   "execution_count": 17
  },
  {
   "metadata": {
    "ExecuteTime": {
     "end_time": "2025-01-19T03:02:17.449247Z",
     "start_time": "2025-01-19T03:02:17.443390Z"
    }
   },
   "cell_type": "code",
   "source": "next(car_iterator2)\n",
   "id": "f205b4e7eb35e63e",
   "outputs": [
    {
     "data": {
      "text/plain": [
       "Mazda"
      ]
     },
     "execution_count": 18,
     "metadata": {},
     "output_type": "execute_result"
    }
   ],
   "execution_count": 18
  },
  {
   "metadata": {
    "ExecuteTime": {
     "end_time": "2025-01-19T03:02:21.733780Z",
     "start_time": "2025-01-19T03:02:21.698356Z"
    }
   },
   "cell_type": "code",
   "source": "next(car_iterator2)",
   "id": "813803ee2ce7f20d",
   "outputs": [
    {
     "ename": "StopIteration",
     "evalue": "",
     "output_type": "error",
     "traceback": [
      "\u001B[0;31m---------------------------------------------------------------------------\u001B[0m",
      "\u001B[0;31mStopIteration\u001B[0m                             Traceback (most recent call last)",
      "Cell \u001B[0;32mIn[19], line 1\u001B[0m\n\u001B[0;32m----> 1\u001B[0m \u001B[38;5;28;43mnext\u001B[39;49m\u001B[43m(\u001B[49m\u001B[43mcar_iterator2\u001B[49m\u001B[43m)\u001B[49m\n",
      "Cell \u001B[0;32mIn[7], line 11\u001B[0m, in \u001B[0;36mCarIterator.__next__\u001B[0;34m(self)\u001B[0m\n\u001B[1;32m      9\u001B[0m \u001B[38;5;28;01mdef\u001B[39;00m\u001B[38;5;250m \u001B[39m\u001B[38;5;21m__next__\u001B[39m(\u001B[38;5;28mself\u001B[39m):\n\u001B[1;32m     10\u001B[0m     \u001B[38;5;28;01mif\u001B[39;00m \u001B[38;5;28mself\u001B[39m\u001B[38;5;241m.\u001B[39m_index \u001B[38;5;241m>\u001B[39m\u001B[38;5;241m=\u001B[39m \u001B[38;5;28mlen\u001B[39m(\u001B[38;5;28mself\u001B[39m\u001B[38;5;241m.\u001B[39m_car):\n\u001B[0;32m---> 11\u001B[0m         \u001B[38;5;28;01mraise\u001B[39;00m \u001B[38;5;167;01mStopIteration\u001B[39;00m\n\u001B[1;32m     12\u001B[0m     \u001B[38;5;28;01melse\u001B[39;00m:\n\u001B[1;32m     13\u001B[0m         item \u001B[38;5;241m=\u001B[39m \u001B[38;5;28mself\u001B[39m\u001B[38;5;241m.\u001B[39m_car[\u001B[38;5;28mself\u001B[39m\u001B[38;5;241m.\u001B[39m_index]\n",
      "\u001B[0;31mStopIteration\u001B[0m: "
     ]
    }
   ],
   "execution_count": 19
  },
  {
   "metadata": {},
   "cell_type": "code",
   "outputs": [],
   "execution_count": null,
   "source": "",
   "id": "42a6a7e88dc8a99c"
  }
 ],
 "metadata": {
  "kernelspec": {
   "display_name": "Python 3",
   "language": "python",
   "name": "python3"
  },
  "language_info": {
   "codemirror_mode": {
    "name": "ipython",
    "version": 2
   },
   "file_extension": ".py",
   "mimetype": "text/x-python",
   "name": "python",
   "nbconvert_exporter": "python",
   "pygments_lexer": "ipython2",
   "version": "2.7.6"
  }
 },
 "nbformat": 4,
 "nbformat_minor": 5
}
