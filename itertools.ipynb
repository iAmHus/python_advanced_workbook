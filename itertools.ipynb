{
 "cells": [
  {
   "cell_type": "code",
   "id": "initial_id",
   "metadata": {
    "collapsed": true,
    "ExecuteTime": {
     "end_time": "2025-02-02T03:19:53.121435Z",
     "start_time": "2025-02-02T03:19:53.104121Z"
    }
   },
   "source": "# from itertools import any, all",
   "outputs": [],
   "execution_count": 7
  },
  {
   "metadata": {
    "ExecuteTime": {
     "end_time": "2025-02-02T03:19:53.517982Z",
     "start_time": "2025-02-02T03:19:53.513377Z"
    }
   },
   "cell_type": "code",
   "source": [
    "# lambda function\n",
    "pred = lambda x: x < 10"
   ],
   "id": "6f3137b348d0aaa1",
   "outputs": [],
   "execution_count": 8
  },
  {
   "metadata": {
    "ExecuteTime": {
     "end_time": "2025-02-02T03:19:53.889394Z",
     "start_time": "2025-02-02T03:19:53.882441Z"
    }
   },
   "cell_type": "code",
   "source": "pred(1)",
   "id": "7cbf71129b49d7df",
   "outputs": [
    {
     "data": {
      "text/plain": [
       "True"
      ]
     },
     "execution_count": 9,
     "metadata": {},
     "output_type": "execute_result"
    }
   ],
   "execution_count": 9
  },
  {
   "metadata": {
    "ExecuteTime": {
     "end_time": "2025-02-02T03:19:54.480540Z",
     "start_time": "2025-02-02T03:19:54.476622Z"
    }
   },
   "cell_type": "code",
   "source": "l = [pred(1), pred(7), pred(11), pred(15)]",
   "id": "966dc4a9005b020e",
   "outputs": [],
   "execution_count": 10
  },
  {
   "metadata": {
    "ExecuteTime": {
     "end_time": "2025-02-02T03:19:55.022632Z",
     "start_time": "2025-02-02T03:19:55.015467Z"
    }
   },
   "cell_type": "code",
   "source": "any(l)",
   "id": "6fd5cd1698ce4331",
   "outputs": [
    {
     "data": {
      "text/plain": [
       "True"
      ]
     },
     "execution_count": 11,
     "metadata": {},
     "output_type": "execute_result"
    }
   ],
   "execution_count": 11
  },
  {
   "metadata": {
    "ExecuteTime": {
     "end_time": "2025-02-02T03:19:55.617133Z",
     "start_time": "2025-02-02T03:19:55.611870Z"
    }
   },
   "cell_type": "code",
   "source": "all(l)",
   "id": "b9890f567e9cd7fd",
   "outputs": [
    {
     "data": {
      "text/plain": [
       "False"
      ]
     },
     "execution_count": 12,
     "metadata": {},
     "output_type": "execute_result"
    }
   ],
   "execution_count": 12
  },
  {
   "metadata": {
    "ExecuteTime": {
     "end_time": "2025-02-02T03:19:56.790292Z",
     "start_time": "2025-02-02T03:19:56.786989Z"
    }
   },
   "cell_type": "code",
   "source": "# any and all - from itertools module",
   "id": "cdc1dd9ca002cba",
   "outputs": [],
   "execution_count": 13
  },
  {
   "metadata": {
    "ExecuteTime": {
     "end_time": "2025-02-02T03:20:24.891756Z",
     "start_time": "2025-02-02T03:20:24.887886Z"
    }
   },
   "cell_type": "code",
   "source": "gt_10 = lambda x: x > 10",
   "id": "fdcdc9f1b52bb5a6",
   "outputs": [],
   "execution_count": 14
  },
  {
   "metadata": {
    "ExecuteTime": {
     "end_time": "2025-02-02T03:20:58.148290Z",
     "start_time": "2025-02-02T03:20:58.144831Z"
    }
   },
   "cell_type": "code",
   "source": "l = [11,3,5,7,9,19,22]",
   "id": "2f62f93e89be5b96",
   "outputs": [],
   "execution_count": 15
  },
  {
   "metadata": {
    "ExecuteTime": {
     "end_time": "2025-02-02T03:26:25.800438Z",
     "start_time": "2025-02-02T03:26:25.795480Z"
    }
   },
   "cell_type": "code",
   "source": [
    "# from itertools import\n",
    "any(map(gt_10, l))"
   ],
   "id": "a6657311a3047dc",
   "outputs": [
    {
     "data": {
      "text/plain": [
       "True"
      ]
     },
     "execution_count": 18,
     "metadata": {},
     "output_type": "execute_result"
    }
   ],
   "execution_count": 18
  },
  {
   "metadata": {
    "ExecuteTime": {
     "end_time": "2025-02-02T03:26:38.692945Z",
     "start_time": "2025-02-02T03:26:38.687671Z"
    }
   },
   "cell_type": "code",
   "source": "all(map(gt_10, l))",
   "id": "f63f77af0aab571",
   "outputs": [
    {
     "data": {
      "text/plain": [
       "False"
      ]
     },
     "execution_count": 19,
     "metadata": {},
     "output_type": "execute_result"
    }
   ],
   "execution_count": 19
  },
  {
   "metadata": {
    "ExecuteTime": {
     "end_time": "2025-02-02T03:33:49.754398Z",
     "start_time": "2025-02-02T03:33:49.751543Z"
    }
   },
   "cell_type": "code",
   "source": "",
   "id": "ca1ae5a54094aa56",
   "outputs": [],
   "execution_count": null
  },
  {
   "metadata": {
    "ExecuteTime": {
     "end_time": "2025-02-02T03:33:56.647467Z",
     "start_time": "2025-02-02T03:33:56.644366Z"
    }
   },
   "cell_type": "code",
   "source": "## itertools islice",
   "id": "10d5a623ccba2ee1",
   "outputs": [],
   "execution_count": 20
  },
  {
   "metadata": {
    "ExecuteTime": {
     "end_time": "2025-02-02T03:34:47.000990Z",
     "start_time": "2025-02-02T03:34:46.997607Z"
    }
   },
   "cell_type": "code",
   "source": "from itertools import islice, takewhile, dropwhile",
   "id": "39a47f5d3131dae7",
   "outputs": [],
   "execution_count": 21
  },
  {
   "metadata": {
    "ExecuteTime": {
     "end_time": "2025-02-02T03:35:02.244444Z",
     "start_time": "2025-02-02T03:35:02.239560Z"
    }
   },
   "cell_type": "code",
   "source": "islice(l, 2,5)",
   "id": "b983c91b62f9b50f",
   "outputs": [
    {
     "data": {
      "text/plain": [
       "<itertools.islice at 0x10d9f0e00>"
      ]
     },
     "execution_count": 22,
     "metadata": {},
     "output_type": "execute_result"
    }
   ],
   "execution_count": 22
  },
  {
   "metadata": {
    "ExecuteTime": {
     "end_time": "2025-02-02T03:35:29.827731Z",
     "start_time": "2025-02-02T03:35:29.822615Z"
    }
   },
   "cell_type": "code",
   "source": "l",
   "id": "916a1353410730ba",
   "outputs": [
    {
     "data": {
      "text/plain": [
       "[11, 3, 5, 7, 9, 19, 22]"
      ]
     },
     "execution_count": 24,
     "metadata": {},
     "output_type": "execute_result"
    }
   ],
   "execution_count": 24
  },
  {
   "metadata": {
    "ExecuteTime": {
     "end_time": "2025-02-02T03:35:19.565422Z",
     "start_time": "2025-02-02T03:35:19.560060Z"
    }
   },
   "cell_type": "code",
   "source": "list(islice(l, 2,5))",
   "id": "59291aa09617ab6f",
   "outputs": [
    {
     "data": {
      "text/plain": [
       "[5, 7, 9]"
      ]
     },
     "execution_count": 23,
     "metadata": {},
     "output_type": "execute_result"
    }
   ],
   "execution_count": 23
  },
  {
   "metadata": {
    "ExecuteTime": {
     "end_time": "2025-02-02T03:36:32.920575Z",
     "start_time": "2025-02-02T03:36:32.917346Z"
    }
   },
   "cell_type": "code",
   "source": "",
   "id": "bf5d9480d54ae6c0",
   "outputs": [],
   "execution_count": null
  },
  {
   "metadata": {
    "ExecuteTime": {
     "end_time": "2025-02-02T03:36:48.563485Z",
     "start_time": "2025-02-02T03:36:48.560205Z"
    }
   },
   "cell_type": "code",
   "source": "# builtins filter and itertools filter_false",
   "id": "97733c71bd39847c",
   "outputs": [],
   "execution_count": 25
  },
  {
   "metadata": {
    "ExecuteTime": {
     "end_time": "2025-02-02T03:40:04.395741Z",
     "start_time": "2025-02-02T03:40:04.392963Z"
    }
   },
   "cell_type": "code",
   "source": "",
   "id": "76f8700f991f1065",
   "outputs": [],
   "execution_count": null
  },
  {
   "metadata": {
    "ExecuteTime": {
     "end_time": "2025-02-02T03:39:35.938637Z",
     "start_time": "2025-02-02T03:39:35.933742Z"
    }
   },
   "cell_type": "code",
   "source": "filter(lambda x : x < 12, l)",
   "id": "cde46a16ab8f4e42",
   "outputs": [
    {
     "data": {
      "text/plain": [
       "<filter at 0x10dd078b0>"
      ]
     },
     "execution_count": 28,
     "metadata": {},
     "output_type": "execute_result"
    }
   ],
   "execution_count": 28
  },
  {
   "metadata": {
    "ExecuteTime": {
     "end_time": "2025-02-02T03:40:42.737652Z",
     "start_time": "2025-02-02T03:40:42.731953Z"
    }
   },
   "cell_type": "code",
   "source": "l",
   "id": "18c6399419ae8587",
   "outputs": [
    {
     "data": {
      "text/plain": [
       "[11, 3, 5, 7, 9, 19, 22]"
      ]
     },
     "execution_count": 34,
     "metadata": {},
     "output_type": "execute_result"
    }
   ],
   "execution_count": 34
  },
  {
   "metadata": {
    "ExecuteTime": {
     "end_time": "2025-02-02T03:39:53.509423Z",
     "start_time": "2025-02-02T03:39:53.503817Z"
    }
   },
   "cell_type": "code",
   "source": "list(filter(lambda x : x < 10, l))",
   "id": "567373b78cffe9c",
   "outputs": [
    {
     "data": {
      "text/plain": [
       "[3, 5, 7, 9]"
      ]
     },
     "execution_count": 30,
     "metadata": {},
     "output_type": "execute_result"
    }
   ],
   "execution_count": 30
  },
  {
   "metadata": {
    "ExecuteTime": {
     "end_time": "2025-02-02T03:40:07.920799Z",
     "start_time": "2025-02-02T03:40:07.916860Z"
    }
   },
   "cell_type": "code",
   "source": "from itertools import filterfalse\n",
   "id": "9a0594be7f8a1e",
   "outputs": [],
   "execution_count": 31
  },
  {
   "metadata": {
    "ExecuteTime": {
     "end_time": "2025-02-02T03:40:23.745006Z",
     "start_time": "2025-02-02T03:40:23.740299Z"
    }
   },
   "cell_type": "code",
   "source": "filterfalse(lambda x: x < 10, l)",
   "id": "3367bc8941033b0e",
   "outputs": [
    {
     "data": {
      "text/plain": [
       "<itertools.filterfalse at 0x10dcc1450>"
      ]
     },
     "execution_count": 32,
     "metadata": {},
     "output_type": "execute_result"
    }
   ],
   "execution_count": 32
  },
  {
   "metadata": {
    "ExecuteTime": {
     "end_time": "2025-02-02T03:40:32.525270Z",
     "start_time": "2025-02-02T03:40:32.520088Z"
    }
   },
   "cell_type": "code",
   "source": "list(filterfalse(lambda x: x < 10, l))",
   "id": "f4823ac162da205d",
   "outputs": [
    {
     "data": {
      "text/plain": [
       "[11, 19, 22]"
      ]
     },
     "execution_count": 33,
     "metadata": {},
     "output_type": "execute_result"
    }
   ],
   "execution_count": 33
  },
  {
   "metadata": {
    "ExecuteTime": {
     "end_time": "2025-02-03T02:58:00.783220Z",
     "start_time": "2025-02-03T02:58:00.780111Z"
    }
   },
   "cell_type": "code",
   "source": [
    "\n",
    "\n"
   ],
   "id": "86dcde2cff36a436",
   "outputs": [],
   "execution_count": 34
  },
  {
   "metadata": {},
   "cell_type": "code",
   "outputs": [],
   "execution_count": null,
   "source": "# takewhile",
   "id": "a8245eeed85e8743"
  },
  {
   "metadata": {
    "ExecuteTime": {
     "end_time": "2025-02-03T02:59:23.789994Z",
     "start_time": "2025-02-03T02:59:23.784533Z"
    }
   },
   "cell_type": "code",
   "source": "l",
   "id": "beb8958aa7f0bba5",
   "outputs": [
    {
     "data": {
      "text/plain": [
       "[11, 3, 5, 7, 9, 19, 22]"
      ]
     },
     "execution_count": 40,
     "metadata": {},
     "output_type": "execute_result"
    }
   ],
   "execution_count": 40
  },
  {
   "metadata": {
    "ExecuteTime": {
     "end_time": "2025-02-03T02:59:55.130860Z",
     "start_time": "2025-02-03T02:59:55.124625Z"
    }
   },
   "cell_type": "code",
   "source": "list(takewhile(lambda x : x > 5, l))",
   "id": "68a473b86624fb5d",
   "outputs": [
    {
     "data": {
      "text/plain": [
       "[11]"
      ]
     },
     "execution_count": 43,
     "metadata": {},
     "output_type": "execute_result"
    }
   ],
   "execution_count": 43
  },
  {
   "metadata": {
    "ExecuteTime": {
     "end_time": "2025-02-03T03:00:10.672338Z",
     "start_time": "2025-02-03T03:00:10.669550Z"
    }
   },
   "cell_type": "code",
   "source": "# dropwhile",
   "id": "eebf58e7b43adf7b",
   "outputs": [],
   "execution_count": 44
  },
  {
   "metadata": {
    "ExecuteTime": {
     "end_time": "2025-02-03T03:00:14.048129Z",
     "start_time": "2025-02-03T03:00:14.041949Z"
    }
   },
   "cell_type": "code",
   "source": "l",
   "id": "7258a7c043856743",
   "outputs": [
    {
     "data": {
      "text/plain": [
       "[11, 3, 5, 7, 9, 19, 22]"
      ]
     },
     "execution_count": 45,
     "metadata": {},
     "output_type": "execute_result"
    }
   ],
   "execution_count": 45
  },
  {
   "metadata": {
    "ExecuteTime": {
     "end_time": "2025-02-03T03:00:37.015528Z",
     "start_time": "2025-02-03T03:00:37.011007Z"
    }
   },
   "cell_type": "code",
   "source": "list(dropwhile(lambda x: x <15, l))",
   "id": "93ce09a4f088418",
   "outputs": [
    {
     "data": {
      "text/plain": [
       "[19, 22]"
      ]
     },
     "execution_count": 46,
     "metadata": {},
     "output_type": "execute_result"
    }
   ],
   "execution_count": 46
  },
  {
   "metadata": {},
   "cell_type": "code",
   "outputs": [],
   "execution_count": null,
   "source": "",
   "id": "a2e68df667c0291f"
  }
 ],
 "metadata": {
  "kernelspec": {
   "display_name": "Python 3",
   "language": "python",
   "name": "python3"
  },
  "language_info": {
   "codemirror_mode": {
    "name": "ipython",
    "version": 2
   },
   "file_extension": ".py",
   "mimetype": "text/x-python",
   "name": "python",
   "nbconvert_exporter": "python",
   "pygments_lexer": "ipython2",
   "version": "2.7.6"
  }
 },
 "nbformat": 4,
 "nbformat_minor": 5
}
