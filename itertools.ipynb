{
 "cells": [
  {
   "cell_type": "code",
   "id": "initial_id",
   "metadata": {
    "collapsed": true,
    "ExecuteTime": {
     "end_time": "2025-01-30T03:53:51.310300Z",
     "start_time": "2025-01-30T03:53:51.303536Z"
    }
   },
   "source": "from itertools import *",
   "outputs": [],
   "execution_count": 1
  },
  {
   "metadata": {
    "ExecuteTime": {
     "end_time": "2025-01-30T03:54:01.193134Z",
     "start_time": "2025-01-30T03:54:01.189534Z"
    }
   },
   "cell_type": "code",
   "source": [
    "# lambda function\n",
    "pred = lambda x: x < 10"
   ],
   "id": "6f3137b348d0aaa1",
   "outputs": [],
   "execution_count": 2
  },
  {
   "metadata": {
    "ExecuteTime": {
     "end_time": "2025-01-30T03:54:05.090363Z",
     "start_time": "2025-01-30T03:54:05.082317Z"
    }
   },
   "cell_type": "code",
   "source": "pred(1)",
   "id": "7cbf71129b49d7df",
   "outputs": [
    {
     "data": {
      "text/plain": [
       "True"
      ]
     },
     "execution_count": 3,
     "metadata": {},
     "output_type": "execute_result"
    }
   ],
   "execution_count": 3
  },
  {
   "metadata": {
    "ExecuteTime": {
     "end_time": "2025-01-30T03:55:41.405510Z",
     "start_time": "2025-01-30T03:55:41.402053Z"
    }
   },
   "cell_type": "code",
   "source": "l = [pred(1), pred(7), pred(11), pred(15)]",
   "id": "966dc4a9005b020e",
   "outputs": [],
   "execution_count": 4
  },
  {
   "metadata": {
    "ExecuteTime": {
     "end_time": "2025-01-30T03:55:46.748388Z",
     "start_time": "2025-01-30T03:55:46.743625Z"
    }
   },
   "cell_type": "code",
   "source": "any(l)",
   "id": "6fd5cd1698ce4331",
   "outputs": [
    {
     "data": {
      "text/plain": [
       "True"
      ]
     },
     "execution_count": 5,
     "metadata": {},
     "output_type": "execute_result"
    }
   ],
   "execution_count": 5
  },
  {
   "metadata": {
    "ExecuteTime": {
     "end_time": "2025-01-30T03:55:53.647342Z",
     "start_time": "2025-01-30T03:55:53.641885Z"
    }
   },
   "cell_type": "code",
   "source": "all(l)",
   "id": "b9890f567e9cd7fd",
   "outputs": [
    {
     "data": {
      "text/plain": [
       "False"
      ]
     },
     "execution_count": 6,
     "metadata": {},
     "output_type": "execute_result"
    }
   ],
   "execution_count": 6
  },
  {
   "metadata": {},
   "cell_type": "code",
   "outputs": [],
   "execution_count": null,
   "source": "# any and all - from itertools module",
   "id": "cdc1dd9ca002cba"
  }
 ],
 "metadata": {
  "kernelspec": {
   "display_name": "Python 3",
   "language": "python",
   "name": "python3"
  },
  "language_info": {
   "codemirror_mode": {
    "name": "ipython",
    "version": 2
   },
   "file_extension": ".py",
   "mimetype": "text/x-python",
   "name": "python",
   "nbconvert_exporter": "python",
   "pygments_lexer": "ipython2",
   "version": "2.7.6"
  }
 },
 "nbformat": 4,
 "nbformat_minor": 5
}
