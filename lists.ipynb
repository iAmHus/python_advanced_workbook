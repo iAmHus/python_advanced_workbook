{
 "cells": [
  {
   "cell_type": "code",
   "id": "initial_id",
   "metadata": {
    "collapsed": true,
    "ExecuteTime": {
     "end_time": "2025-01-14T03:09:31.301185Z",
     "start_time": "2025-01-14T03:09:31.297066Z"
    }
   },
   "source": [
    "l1 = [1,2,\"a\"]\n",
    "\n",
    "l2 = list(range(4))"
   ],
   "outputs": [],
   "execution_count": 2
  },
  {
   "metadata": {
    "ExecuteTime": {
     "end_time": "2025-01-14T03:09:40.283468Z",
     "start_time": "2025-01-14T03:09:40.278899Z"
    }
   },
   "cell_type": "code",
   "source": [
    "print(l1)\n",
    "\n",
    "print(l2)"
   ],
   "id": "a076a843fe74da8e",
   "outputs": [
    {
     "name": "stdout",
     "output_type": "stream",
     "text": [
      "[1, 2, 'a']\n",
      "[0, 1, 2, 3]\n"
     ]
    }
   ],
   "execution_count": 3
  },
  {
   "metadata": {
    "ExecuteTime": {
     "end_time": "2025-01-14T03:10:07.360340Z",
     "start_time": "2025-01-14T03:10:07.356091Z"
    }
   },
   "cell_type": "code",
   "source": [
    "for i, elem in enumerate(l1):\n",
    "    print(f\"{i} : {elem}\")"
   ],
   "id": "505d4f701cf99f2d",
   "outputs": [
    {
     "name": "stdout",
     "output_type": "stream",
     "text": [
      "0 : 1\n",
      "1 : 2\n",
      "2 : a\n"
     ]
    }
   ],
   "execution_count": 4
  },
  {
   "metadata": {},
   "cell_type": "code",
   "outputs": [],
   "execution_count": null,
   "source": "",
   "id": "551b0eb1a59d6b6b"
  },
  {
   "metadata": {},
   "cell_type": "markdown",
   "source": "### List comprehension",
   "id": "e458cdbb1604c6b4"
  },
  {
   "metadata": {
    "ExecuteTime": {
     "end_time": "2025-01-15T02:37:13.910396Z",
     "start_time": "2025-01-15T02:37:13.884471Z"
    }
   },
   "cell_type": "code",
   "source": "l3 = [i**2 for i in range(15) if i%2 == 0]",
   "id": "1fce4c350f45808c",
   "outputs": [],
   "execution_count": 9
  },
  {
   "metadata": {
    "ExecuteTime": {
     "end_time": "2025-01-15T02:37:14.663341Z",
     "start_time": "2025-01-15T02:37:14.658569Z"
    }
   },
   "cell_type": "code",
   "source": "print(l3)",
   "id": "8e55a63e61bec1a8",
   "outputs": [
    {
     "name": "stdout",
     "output_type": "stream",
     "text": [
      "[0, 4, 16, 36, 64, 100, 144, 196]\n"
     ]
    }
   ],
   "execution_count": 10
  },
  {
   "metadata": {
    "ExecuteTime": {
     "end_time": "2025-01-15T02:38:37.882335Z",
     "start_time": "2025-01-15T02:38:37.879587Z"
    }
   },
   "cell_type": "code",
   "source": "",
   "id": "738e2ac61d725ee9",
   "outputs": [],
   "execution_count": null
  },
  {
   "metadata": {
    "ExecuteTime": {
     "end_time": "2025-01-15T02:39:14.824845Z",
     "start_time": "2025-01-15T02:39:14.821551Z"
    }
   },
   "cell_type": "code",
   "source": "## Slicing",
   "id": "b8c8a846474bf564",
   "outputs": [],
   "execution_count": 11
  },
  {
   "metadata": {
    "ExecuteTime": {
     "end_time": "2025-01-15T02:40:03.702317Z",
     "start_time": "2025-01-15T02:40:03.699005Z"
    }
   },
   "cell_type": "code",
   "source": "l4 = l3[1:5:2]",
   "id": "a51d24e9bea3ad01",
   "outputs": [],
   "execution_count": 12
  },
  {
   "metadata": {
    "ExecuteTime": {
     "end_time": "2025-01-15T02:40:06.614428Z",
     "start_time": "2025-01-15T02:40:06.605426Z"
    }
   },
   "cell_type": "code",
   "source": "l4",
   "id": "d3a8b4b2d2aaad70",
   "outputs": [
    {
     "data": {
      "text/plain": [
       "[4, 36]"
      ]
     },
     "execution_count": 13,
     "metadata": {},
     "output_type": "execute_result"
    }
   ],
   "execution_count": 13
  },
  {
   "metadata": {
    "ExecuteTime": {
     "end_time": "2025-01-15T02:40:56.390116Z",
     "start_time": "2025-01-15T02:40:56.386687Z"
    }
   },
   "cell_type": "code",
   "source": "### Functions of a loop",
   "id": "ee827b61c913ecb8",
   "outputs": [],
   "execution_count": 14
  },
  {
   "metadata": {
    "ExecuteTime": {
     "end_time": "2025-01-15T02:41:04.479185Z",
     "start_time": "2025-01-15T02:41:04.474895Z"
    }
   },
   "cell_type": "code",
   "source": "len(l3)",
   "id": "7122ddd581cd203c",
   "outputs": [
    {
     "data": {
      "text/plain": [
       "8"
      ]
     },
     "execution_count": 15,
     "metadata": {},
     "output_type": "execute_result"
    }
   ],
   "execution_count": 15
  },
  {
   "metadata": {
    "ExecuteTime": {
     "end_time": "2025-01-15T02:41:20.891953Z",
     "start_time": "2025-01-15T02:41:20.888757Z"
    }
   },
   "cell_type": "code",
   "source": "l5 = [1,1,2,4,7,7,7,9]",
   "id": "c1ea92a79585680e",
   "outputs": [],
   "execution_count": 16
  },
  {
   "metadata": {
    "ExecuteTime": {
     "end_time": "2025-01-15T02:41:26.042371Z",
     "start_time": "2025-01-15T02:41:26.037679Z"
    }
   },
   "cell_type": "code",
   "source": "l5.count(1)",
   "id": "b6eec940ea322f92",
   "outputs": [
    {
     "data": {
      "text/plain": [
       "2"
      ]
     },
     "execution_count": 17,
     "metadata": {},
     "output_type": "execute_result"
    }
   ],
   "execution_count": 17
  },
  {
   "metadata": {
    "ExecuteTime": {
     "end_time": "2025-01-15T02:41:44.406094Z",
     "start_time": "2025-01-15T02:41:44.395666Z"
    }
   },
   "cell_type": "code",
   "source": "l5.index(7)",
   "id": "178f6d1a4f83",
   "outputs": [
    {
     "data": {
      "text/plain": [
       "4"
      ]
     },
     "execution_count": 18,
     "metadata": {},
     "output_type": "execute_result"
    }
   ],
   "execution_count": 18
  },
  {
   "metadata": {
    "ExecuteTime": {
     "end_time": "2025-01-15T02:42:37.982115Z",
     "start_time": "2025-01-15T02:42:37.978783Z"
    }
   },
   "cell_type": "code",
   "source": "l6 = l3 + l5",
   "id": "5cd6031b77143f11",
   "outputs": [],
   "execution_count": 21
  },
  {
   "metadata": {
    "ExecuteTime": {
     "end_time": "2025-01-15T02:42:38.616585Z",
     "start_time": "2025-01-15T02:42:38.613206Z"
    }
   },
   "cell_type": "code",
   "source": "l6.insert(0,19)",
   "id": "b3bb70964e7b9fb7",
   "outputs": [],
   "execution_count": 22
  },
  {
   "metadata": {
    "ExecuteTime": {
     "end_time": "2025-01-15T02:42:41.487656Z",
     "start_time": "2025-01-15T02:42:41.483140Z"
    }
   },
   "cell_type": "code",
   "source": "l6",
   "id": "59d8e49cdf18e465",
   "outputs": [
    {
     "data": {
      "text/plain": [
       "[19, 0, 4, 16, 36, 64, 100, 144, 196, 1, 1, 2, 4, 7, 7, 7, 9]"
      ]
     },
     "execution_count": 23,
     "metadata": {},
     "output_type": "execute_result"
    }
   ],
   "execution_count": 23
  },
  {
   "metadata": {
    "ExecuteTime": {
     "end_time": "2025-01-15T02:44:25.015453Z",
     "start_time": "2025-01-15T02:44:25.012026Z"
    }
   },
   "cell_type": "code",
   "source": "l6.extend([1,4])",
   "id": "cb50c8f9a212a6eb",
   "outputs": [],
   "execution_count": 32
  },
  {
   "metadata": {
    "ExecuteTime": {
     "end_time": "2025-01-15T02:44:34.328887Z",
     "start_time": "2025-01-15T02:44:34.325676Z"
    }
   },
   "cell_type": "code",
   "source": "# l6",
   "id": "99fd6caada8cc411",
   "outputs": [],
   "execution_count": 35
  },
  {
   "metadata": {
    "ExecuteTime": {
     "end_time": "2025-01-15T02:44:28.410549Z",
     "start_time": "2025-01-15T02:44:28.405025Z"
    }
   },
   "cell_type": "code",
   "source": "l6.pop()",
   "id": "c666c807270bd866",
   "outputs": [
    {
     "data": {
      "text/plain": [
       "4"
      ]
     },
     "execution_count": 34,
     "metadata": {},
     "output_type": "execute_result"
    }
   ],
   "execution_count": 34
  },
  {
   "metadata": {
    "ExecuteTime": {
     "end_time": "2025-01-15T02:44:56.707814Z",
     "start_time": "2025-01-15T02:44:56.704521Z"
    }
   },
   "cell_type": "code",
   "source": "l6.remove(19)",
   "id": "ce0ea2e22f98e0ad",
   "outputs": [],
   "execution_count": 36
  },
  {
   "metadata": {
    "ExecuteTime": {
     "end_time": "2025-01-15T02:44:59.882070Z",
     "start_time": "2025-01-15T02:44:59.876489Z"
    }
   },
   "cell_type": "code",
   "source": "l6",
   "id": "e27e5b3e3750fca8",
   "outputs": [
    {
     "data": {
      "text/plain": [
       "[0, 4, 16, 36, 64, 100, 144, 196, 1, 1, 2, 4, 7, 7, 7, 9, 1, 4, 1, 4, 1, 1]"
      ]
     },
     "execution_count": 37,
     "metadata": {},
     "output_type": "execute_result"
    }
   ],
   "execution_count": 37
  },
  {
   "metadata": {
    "ExecuteTime": {
     "end_time": "2025-01-15T02:45:26.468350Z",
     "start_time": "2025-01-15T02:45:26.465110Z"
    }
   },
   "cell_type": "code",
   "source": "",
   "id": "43bc7b9b851a5d",
   "outputs": [],
   "execution_count": null
  },
  {
   "metadata": {
    "ExecuteTime": {
     "end_time": "2025-01-15T02:45:36.050444Z",
     "start_time": "2025-01-15T02:45:36.046901Z"
    }
   },
   "cell_type": "code",
   "source": "l6.reverse()",
   "id": "403683a9bb271d9e",
   "outputs": [],
   "execution_count": 39
  },
  {
   "metadata": {
    "ExecuteTime": {
     "end_time": "2025-01-15T02:46:03.594431Z",
     "start_time": "2025-01-15T02:46:03.589581Z"
    }
   },
   "cell_type": "code",
   "source": "l6",
   "id": "bb05ad389e6df908",
   "outputs": [
    {
     "data": {
      "text/plain": [
       "[1, 1, 4, 1, 4, 1, 9, 7, 7, 7, 4, 2, 1, 1, 196, 144, 100, 64, 36, 16, 4, 0]"
      ]
     },
     "execution_count": 40,
     "metadata": {},
     "output_type": "execute_result"
    }
   ],
   "execution_count": 40
  },
  {
   "metadata": {
    "ExecuteTime": {
     "end_time": "2025-01-15T02:46:07.621072Z",
     "start_time": "2025-01-15T02:46:07.618361Z"
    }
   },
   "cell_type": "code",
   "source": "",
   "id": "82c8b5e6cd908827",
   "outputs": [],
   "execution_count": null
  },
  {
   "metadata": {
    "ExecuteTime": {
     "end_time": "2025-01-15T02:46:47.965446Z",
     "start_time": "2025-01-15T02:46:47.961760Z"
    }
   },
   "cell_type": "code",
   "source": "l6.sort()",
   "id": "2447388e7312e192",
   "outputs": [],
   "execution_count": 43
  },
  {
   "metadata": {
    "ExecuteTime": {
     "end_time": "2025-01-15T02:46:48.933167Z",
     "start_time": "2025-01-15T02:46:48.927667Z"
    }
   },
   "cell_type": "code",
   "source": "l6",
   "id": "2dd9462c974b875c",
   "outputs": [
    {
     "data": {
      "text/plain": [
       "[0, 1, 1, 1, 1, 1, 1, 2, 4, 4, 4, 4, 7, 7, 7, 9, 16, 36, 64, 100, 144, 196]"
      ]
     },
     "execution_count": 44,
     "metadata": {},
     "output_type": "execute_result"
    }
   ],
   "execution_count": 44
  },
  {
   "metadata": {},
   "cell_type": "code",
   "outputs": [],
   "execution_count": null,
   "source": "",
   "id": "3d99d90b8b6e8010"
  },
  {
   "metadata": {
    "ExecuteTime": {
     "end_time": "2025-01-15T02:47:59.141287Z",
     "start_time": "2025-01-15T02:47:59.137672Z"
    }
   },
   "cell_type": "code",
   "source": "l7 = ['Apple', 'Bob','Cat']",
   "id": "324b34dec2873ded",
   "outputs": [],
   "execution_count": 50
  },
  {
   "metadata": {
    "ExecuteTime": {
     "end_time": "2025-01-16T02:13:40.097740Z",
     "start_time": "2025-01-16T02:13:40.094788Z"
    }
   },
   "cell_type": "code",
   "source": [
    "# In-place sort !!\n",
    "l7.sort()"
   ],
   "id": "8e58d396e09b777f",
   "outputs": [],
   "execution_count": 63
  },
  {
   "metadata": {
    "ExecuteTime": {
     "end_time": "2025-01-16T02:13:40.767589Z",
     "start_time": "2025-01-16T02:13:40.762257Z"
    }
   },
   "cell_type": "code",
   "source": "l7",
   "id": "755245085a4366ff",
   "outputs": [
    {
     "data": {
      "text/plain": [
       "['Apple', 'Bob', 'Cat']"
      ]
     },
     "execution_count": 64,
     "metadata": {},
     "output_type": "execute_result"
    }
   ],
   "execution_count": 64
  },
  {
   "metadata": {
    "ExecuteTime": {
     "end_time": "2025-01-16T02:13:41.368456Z",
     "start_time": "2025-01-16T02:13:41.365052Z"
    }
   },
   "cell_type": "code",
   "source": "l7.sort(key=lambda x: x[::-1])",
   "id": "5f19178164ab1592",
   "outputs": [],
   "execution_count": 65
  },
  {
   "metadata": {
    "ExecuteTime": {
     "end_time": "2025-01-16T02:13:42.321689Z",
     "start_time": "2025-01-16T02:13:42.317073Z"
    }
   },
   "cell_type": "code",
   "source": "l7",
   "id": "f7829b7db27a8efb",
   "outputs": [
    {
     "data": {
      "text/plain": [
       "['Bob', 'Apple', 'Cat']"
      ]
     },
     "execution_count": 66,
     "metadata": {},
     "output_type": "execute_result"
    }
   ],
   "execution_count": 66
  },
  {
   "metadata": {
    "ExecuteTime": {
     "end_time": "2025-01-16T02:13:42.989870Z",
     "start_time": "2025-01-16T02:13:42.986583Z"
    }
   },
   "cell_type": "code",
   "source": "",
   "id": "dd2faafdaf11c3c7",
   "outputs": [],
   "execution_count": null
  },
  {
   "metadata": {
    "ExecuteTime": {
     "end_time": "2025-01-16T02:13:43.581271Z",
     "start_time": "2025-01-16T02:13:43.576159Z"
    }
   },
   "cell_type": "code",
   "source": "l7*3",
   "id": "374d9d27fdd06314",
   "outputs": [
    {
     "data": {
      "text/plain": [
       "['Bob', 'Apple', 'Cat', 'Bob', 'Apple', 'Cat', 'Bob', 'Apple', 'Cat']"
      ]
     },
     "execution_count": 67,
     "metadata": {},
     "output_type": "execute_result"
    }
   ],
   "execution_count": 67
  },
  {
   "metadata": {
    "ExecuteTime": {
     "end_time": "2025-01-16T02:13:44.223342Z",
     "start_time": "2025-01-16T02:13:44.220527Z"
    }
   },
   "cell_type": "code",
   "source": "",
   "id": "10939039485e8db7",
   "outputs": [],
   "execution_count": null
  },
  {
   "metadata": {
    "ExecuteTime": {
     "end_time": "2025-01-16T02:13:44.766099Z",
     "start_time": "2025-01-16T02:13:44.761802Z"
    }
   },
   "cell_type": "code",
   "source": "'Apple' in l7",
   "id": "4a31d2a8d425a77",
   "outputs": [
    {
     "data": {
      "text/plain": [
       "True"
      ]
     },
     "execution_count": 68,
     "metadata": {},
     "output_type": "execute_result"
    }
   ],
   "execution_count": 68
  },
  {
   "metadata": {
    "ExecuteTime": {
     "end_time": "2025-01-16T02:13:45.306914Z",
     "start_time": "2025-01-16T02:13:45.302121Z"
    }
   },
   "cell_type": "code",
   "source": "'Cold' in l7",
   "id": "f87112df2624cb22",
   "outputs": [
    {
     "data": {
      "text/plain": [
       "False"
      ]
     },
     "execution_count": 69,
     "metadata": {},
     "output_type": "execute_result"
    }
   ],
   "execution_count": 69
  },
  {
   "metadata": {
    "ExecuteTime": {
     "end_time": "2025-01-16T02:13:45.888557Z",
     "start_time": "2025-01-16T02:13:45.885387Z"
    }
   },
   "cell_type": "code",
   "source": "## new list created from sort",
   "id": "4ea8efa2e9fa3c08",
   "outputs": [],
   "execution_count": 70
  },
  {
   "metadata": {
    "ExecuteTime": {
     "end_time": "2025-01-16T02:13:46.840449Z",
     "start_time": "2025-01-16T02:13:46.835022Z"
    }
   },
   "cell_type": "code",
   "source": "sorted(l6, key=lambda x: x*-1)",
   "id": "4d3fbdf1fd83b3dc",
   "outputs": [
    {
     "data": {
      "text/plain": [
       "[196, 144, 100, 64, 36, 16, 9, 7, 7, 7, 4, 4, 4, 4, 2, 1, 1, 1, 1, 1, 1, 0]"
      ]
     },
     "execution_count": 71,
     "metadata": {},
     "output_type": "execute_result"
    }
   ],
   "execution_count": 71
  },
  {
   "metadata": {},
   "cell_type": "code",
   "outputs": [],
   "execution_count": null,
   "source": "",
   "id": "498180d61a786fcf"
  }
 ],
 "metadata": {
  "kernelspec": {
   "display_name": "Python 3",
   "language": "python",
   "name": "python3"
  },
  "language_info": {
   "codemirror_mode": {
    "name": "ipython",
    "version": 2
   },
   "file_extension": ".py",
   "mimetype": "text/x-python",
   "name": "python",
   "nbconvert_exporter": "python",
   "pygments_lexer": "ipython2",
   "version": "2.7.6"
  }
 },
 "nbformat": 4,
 "nbformat_minor": 5
}
