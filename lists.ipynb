{
 "cells": [
  {
   "cell_type": "code",
   "id": "initial_id",
   "metadata": {
    "collapsed": true,
    "ExecuteTime": {
     "end_time": "2025-01-14T03:09:31.301185Z",
     "start_time": "2025-01-14T03:09:31.297066Z"
    }
   },
   "source": [
    "l1 = [1,2,\"a\"]\n",
    "\n",
    "l2 = list(range(4))"
   ],
   "outputs": [],
   "execution_count": 2
  },
  {
   "metadata": {
    "ExecuteTime": {
     "end_time": "2025-01-14T03:09:40.283468Z",
     "start_time": "2025-01-14T03:09:40.278899Z"
    }
   },
   "cell_type": "code",
   "source": [
    "print(l1)\n",
    "\n",
    "print(l2)"
   ],
   "id": "a076a843fe74da8e",
   "outputs": [
    {
     "name": "stdout",
     "output_type": "stream",
     "text": [
      "[1, 2, 'a']\n",
      "[0, 1, 2, 3]\n"
     ]
    }
   ],
   "execution_count": 3
  },
  {
   "metadata": {
    "ExecuteTime": {
     "end_time": "2025-01-14T03:10:07.360340Z",
     "start_time": "2025-01-14T03:10:07.356091Z"
    }
   },
   "cell_type": "code",
   "source": [
    "for i, elem in enumerate(l1):\n",
    "    print(f\"{i} : {elem}\")"
   ],
   "id": "505d4f701cf99f2d",
   "outputs": [
    {
     "name": "stdout",
     "output_type": "stream",
     "text": [
      "0 : 1\n",
      "1 : 2\n",
      "2 : a\n"
     ]
    }
   ],
   "execution_count": 4
  },
  {
   "metadata": {},
   "cell_type": "markdown",
   "source": "### List comprehension",
   "id": "e458cdbb1604c6b4"
  },
  {
   "metadata": {
    "ExecuteTime": {
     "end_time": "2025-01-14T03:12:41.623683Z",
     "start_time": "2025-01-14T03:12:41.619993Z"
    }
   },
   "cell_type": "code",
   "source": "l3 = [i**2 for i in range(10) if i%2 == 0]",
   "id": "1fce4c350f45808c",
   "outputs": [],
   "execution_count": 7
  },
  {
   "metadata": {
    "ExecuteTime": {
     "end_time": "2025-01-14T03:12:42.209999Z",
     "start_time": "2025-01-14T03:12:42.206603Z"
    }
   },
   "cell_type": "code",
   "source": "print(l3)",
   "id": "8e55a63e61bec1a8",
   "outputs": [
    {
     "name": "stdout",
     "output_type": "stream",
     "text": [
      "[0, 4, 16, 36, 64]\n"
     ]
    }
   ],
   "execution_count": 8
  },
  {
   "metadata": {},
   "cell_type": "code",
   "outputs": [],
   "execution_count": null,
   "source": "",
   "id": "738e2ac61d725ee9"
  }
 ],
 "metadata": {
  "kernelspec": {
   "display_name": "Python 3",
   "language": "python",
   "name": "python3"
  },
  "language_info": {
   "codemirror_mode": {
    "name": "ipython",
    "version": 2
   },
   "file_extension": ".py",
   "mimetype": "text/x-python",
   "name": "python",
   "nbconvert_exporter": "python",
   "pygments_lexer": "ipython2",
   "version": "2.7.6"
  }
 },
 "nbformat": 4,
 "nbformat_minor": 5
}
