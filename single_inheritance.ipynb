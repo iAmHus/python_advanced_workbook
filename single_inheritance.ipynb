{
 "cells": [
  {
   "cell_type": "code",
   "id": "initial_id",
   "metadata": {
    "collapsed": true,
    "ExecuteTime": {
     "end_time": "2025-02-19T03:55:19.068072Z",
     "start_time": "2025-02-19T03:55:19.058809Z"
    }
   },
   "source": [
    "class Person:\n",
    "    __slots__ = ('name',)\n",
    "\n",
    "    def __init__(self, name):\n",
    "        self.name = 'Rob'"
   ],
   "outputs": [],
   "execution_count": 1
  },
  {
   "metadata": {
    "ExecuteTime": {
     "end_time": "2025-02-19T03:56:12.970685Z",
     "start_time": "2025-02-19T03:56:12.966152Z"
    }
   },
   "cell_type": "code",
   "source": [
    "class Student(Person):\n",
    "    def __init__(self, student_id, name):\n",
    "        super().__init__(name)\n",
    "        self.student_id = student_id"
   ],
   "id": "dff04355524a3dac",
   "outputs": [],
   "execution_count": 2
  },
  {
   "metadata": {
    "ExecuteTime": {
     "end_time": "2025-02-19T03:56:35.408090Z",
     "start_time": "2025-02-19T03:56:35.404092Z"
    }
   },
   "cell_type": "code",
   "source": "s = Student(123, 'Rob')",
   "id": "c9be91b6cac68dce",
   "outputs": [],
   "execution_count": 3
  },
  {
   "metadata": {
    "ExecuteTime": {
     "end_time": "2025-02-19T03:56:50.120562Z",
     "start_time": "2025-02-19T03:56:50.111057Z"
    }
   },
   "cell_type": "code",
   "source": "isinstance(s, Student)",
   "id": "dfdd5dfc193a3c72",
   "outputs": [
    {
     "data": {
      "text/plain": [
       "True"
      ]
     },
     "execution_count": 4,
     "metadata": {},
     "output_type": "execute_result"
    }
   ],
   "execution_count": 4
  },
  {
   "metadata": {
    "ExecuteTime": {
     "end_time": "2025-02-19T03:56:57.531613Z",
     "start_time": "2025-02-19T03:56:57.525319Z"
    }
   },
   "cell_type": "code",
   "source": "isinstance(s, Person)",
   "id": "196c255db8466d9b",
   "outputs": [
    {
     "data": {
      "text/plain": [
       "True"
      ]
     },
     "execution_count": 5,
     "metadata": {},
     "output_type": "execute_result"
    }
   ],
   "execution_count": 5
  },
  {
   "metadata": {},
   "cell_type": "code",
   "outputs": [],
   "execution_count": null,
   "source": "",
   "id": "3156ca7d79be5639"
  }
 ],
 "metadata": {
  "kernelspec": {
   "display_name": "Python 3",
   "language": "python",
   "name": "python3"
  },
  "language_info": {
   "codemirror_mode": {
    "name": "ipython",
    "version": 2
   },
   "file_extension": ".py",
   "mimetype": "text/x-python",
   "name": "python",
   "nbconvert_exporter": "python",
   "pygments_lexer": "ipython2",
   "version": "2.7.6"
  }
 },
 "nbformat": 4,
 "nbformat_minor": 5
}
