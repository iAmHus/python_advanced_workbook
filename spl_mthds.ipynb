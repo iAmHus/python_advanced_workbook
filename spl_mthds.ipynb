{
 "cells": [
  {
   "cell_type": "code",
   "id": "initial_id",
   "metadata": {
    "collapsed": true,
    "ExecuteTime": {
     "end_time": "2025-02-18T03:47:43.235172Z",
     "start_time": "2025-02-18T03:47:43.231779Z"
    }
   },
   "source": "# Spl methods -slots",
   "outputs": [],
   "execution_count": 3
  },
  {
   "metadata": {
    "ExecuteTime": {
     "end_time": "2025-02-18T03:48:46.444048Z",
     "start_time": "2025-02-18T03:48:46.439364Z"
    }
   },
   "cell_type": "code",
   "source": [
    "class Person:\n",
    "    __slots__ = ('name',)\n",
    "\n",
    "    def __init__(self, name):\n",
    "        self.name = 'Rob'"
   ],
   "id": "e133facd2d427fb0",
   "outputs": [],
   "execution_count": 6
  },
  {
   "metadata": {
    "ExecuteTime": {
     "end_time": "2025-02-18T03:48:51.965275Z",
     "start_time": "2025-02-18T03:48:51.961534Z"
    }
   },
   "cell_type": "code",
   "source": "p = Person('Bob')",
   "id": "69651222bae578f1",
   "outputs": [],
   "execution_count": 7
  },
  {
   "metadata": {},
   "cell_type": "code",
   "outputs": [],
   "execution_count": null,
   "source": "",
   "id": "d190b02caf3662cd"
  }
 ],
 "metadata": {
  "kernelspec": {
   "display_name": "Python 3",
   "language": "python",
   "name": "python3"
  },
  "language_info": {
   "codemirror_mode": {
    "name": "ipython",
    "version": 2
   },
   "file_extension": ".py",
   "mimetype": "text/x-python",
   "name": "python",
   "nbconvert_exporter": "python",
   "pygments_lexer": "ipython2",
   "version": "2.7.6"
  }
 },
 "nbformat": 4,
 "nbformat_minor": 5
}
