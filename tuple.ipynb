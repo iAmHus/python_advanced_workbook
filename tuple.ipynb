{
 "cells": [
  {
   "cell_type": "code",
   "id": "initial_id",
   "metadata": {
    "collapsed": true,
    "ExecuteTime": {
     "end_time": "2025-01-16T02:35:03.388590Z",
     "start_time": "2025-01-16T02:35:03.381372Z"
    }
   },
   "source": "t = (10,)",
   "outputs": [],
   "execution_count": 1
  },
  {
   "metadata": {
    "ExecuteTime": {
     "end_time": "2025-01-16T02:35:06.936149Z",
     "start_time": "2025-01-16T02:35:06.927801Z"
    }
   },
   "cell_type": "code",
   "source": "type(t)",
   "id": "d9885e0b484d6894",
   "outputs": [
    {
     "data": {
      "text/plain": [
       "tuple"
      ]
     },
     "execution_count": 2,
     "metadata": {},
     "output_type": "execute_result"
    }
   ],
   "execution_count": 2
  },
  {
   "metadata": {
    "ExecuteTime": {
     "end_time": "2025-01-16T02:35:46.999760Z",
     "start_time": "2025-01-16T02:35:46.996031Z"
    }
   },
   "cell_type": "code",
   "source": [
    "## MIND the difference !!\n",
    "t2 = (10)"
   ],
   "id": "c2ce9fd693c700d9",
   "outputs": [],
   "execution_count": 6
  },
  {
   "metadata": {
    "ExecuteTime": {
     "end_time": "2025-01-16T02:35:47.464025Z",
     "start_time": "2025-01-16T02:35:47.458312Z"
    }
   },
   "cell_type": "code",
   "source": "type(t2)",
   "id": "fb72599dfd5945a4",
   "outputs": [
    {
     "data": {
      "text/plain": [
       "int"
      ]
     },
     "execution_count": 7,
     "metadata": {},
     "output_type": "execute_result"
    }
   ],
   "execution_count": 7
  },
  {
   "metadata": {
    "ExecuteTime": {
     "end_time": "2025-01-16T02:35:48.805522Z",
     "start_time": "2025-01-16T02:35:48.802554Z"
    }
   },
   "cell_type": "code",
   "source": "",
   "id": "c3760374ca94bca1",
   "outputs": [],
   "execution_count": null
  },
  {
   "metadata": {
    "ExecuteTime": {
     "end_time": "2025-01-16T02:36:31.461240Z",
     "start_time": "2025-01-16T02:36:31.457819Z"
    }
   },
   "cell_type": "code",
   "source": "## THERE ARE NO TUPLE COMPREHENSIONS !!",
   "id": "49430b54e5590c35",
   "outputs": [],
   "execution_count": 8
  },
  {
   "metadata": {
    "ExecuteTime": {
     "end_time": "2025-01-16T02:36:32.412554Z",
     "start_time": "2025-01-16T02:36:32.409962Z"
    }
   },
   "cell_type": "code",
   "source": "",
   "id": "35b5e54fda3910b8",
   "outputs": [],
   "execution_count": null
  },
  {
   "metadata": {
    "ExecuteTime": {
     "end_time": "2025-01-16T02:37:17.027969Z",
     "start_time": "2025-01-16T02:37:17.024425Z"
    }
   },
   "cell_type": "code",
   "source": "t3 = (1,4,7,99,45)",
   "id": "797cf551dc7064dd",
   "outputs": [],
   "execution_count": 9
  },
  {
   "metadata": {
    "ExecuteTime": {
     "end_time": "2025-01-16T02:37:23.305945Z",
     "start_time": "2025-01-16T02:37:23.300671Z"
    }
   },
   "cell_type": "code",
   "source": "t3[2:4]",
   "id": "dfb3c004ce56c7b5",
   "outputs": [
    {
     "data": {
      "text/plain": [
       "(7, 99)"
      ]
     },
     "execution_count": 10,
     "metadata": {},
     "output_type": "execute_result"
    }
   ],
   "execution_count": 10
  },
  {
   "metadata": {
    "ExecuteTime": {
     "end_time": "2025-01-16T02:37:28.724484Z",
     "start_time": "2025-01-16T02:37:28.721815Z"
    }
   },
   "cell_type": "code",
   "source": "",
   "id": "5cfa363672962673",
   "outputs": [],
   "execution_count": null
  },
  {
   "metadata": {
    "ExecuteTime": {
     "end_time": "2025-01-16T02:37:43.913005Z",
     "start_time": "2025-01-16T02:37:43.907678Z"
    }
   },
   "cell_type": "code",
   "source": [
    "# len\n",
    "len(t3)"
   ],
   "id": "ff9a1e8ec3f39bdc",
   "outputs": [
    {
     "data": {
      "text/plain": [
       "5"
      ]
     },
     "execution_count": 12,
     "metadata": {},
     "output_type": "execute_result"
    }
   ],
   "execution_count": 12
  },
  {
   "metadata": {
    "ExecuteTime": {
     "end_time": "2025-01-16T02:37:58.519192Z",
     "start_time": "2025-01-16T02:37:58.514108Z"
    }
   },
   "cell_type": "code",
   "source": "t3.count(7)",
   "id": "bb49a9ce45fbf0be",
   "outputs": [
    {
     "data": {
      "text/plain": [
       "1"
      ]
     },
     "execution_count": 13,
     "metadata": {},
     "output_type": "execute_result"
    }
   ],
   "execution_count": 13
  },
  {
   "metadata": {
    "ExecuteTime": {
     "end_time": "2025-01-16T02:38:30.094669Z",
     "start_time": "2025-01-16T02:38:30.090276Z"
    }
   },
   "cell_type": "code",
   "source": [
    "# sort statement\n",
    "\n",
    "sorted(t3)"
   ],
   "id": "524628aa025f338e",
   "outputs": [
    {
     "data": {
      "text/plain": [
       "[1, 4, 7, 45, 99]"
      ]
     },
     "execution_count": 14,
     "metadata": {},
     "output_type": "execute_result"
    }
   ],
   "execution_count": 14
  },
  {
   "metadata": {},
   "cell_type": "code",
   "outputs": [],
   "execution_count": null,
   "source": "",
   "id": "97bd8f3e4843679a"
  }
 ],
 "metadata": {
  "kernelspec": {
   "display_name": "Python 3",
   "language": "python",
   "name": "python3"
  },
  "language_info": {
   "codemirror_mode": {
    "name": "ipython",
    "version": 2
   },
   "file_extension": ".py",
   "mimetype": "text/x-python",
   "name": "python",
   "nbconvert_exporter": "python",
   "pygments_lexer": "ipython2",
   "version": "2.7.6"
  }
 },
 "nbformat": 4,
 "nbformat_minor": 5
}
