{
 "cells": [
  {
   "cell_type": "code",
   "id": "initial_id",
   "metadata": {
    "collapsed": true,
    "ExecuteTime": {
     "end_time": "2025-03-18T02:05:26.345419Z",
     "start_time": "2025-03-18T02:05:26.330538Z"
    }
   },
   "source": "a, *b = [1, 2, 3]",
   "outputs": [],
   "execution_count": 1
  },
  {
   "metadata": {
    "ExecuteTime": {
     "end_time": "2025-03-18T02:05:26.419655Z",
     "start_time": "2025-03-18T02:05:26.392679Z"
    }
   },
   "cell_type": "code",
   "source": "a",
   "id": "dc5788e335b2b5b0",
   "outputs": [
    {
     "data": {
      "text/plain": [
       "1"
      ]
     },
     "execution_count": 2,
     "metadata": {},
     "output_type": "execute_result"
    }
   ],
   "execution_count": 2
  },
  {
   "metadata": {
    "ExecuteTime": {
     "end_time": "2025-03-18T02:05:26.916130Z",
     "start_time": "2025-03-18T02:05:26.905948Z"
    }
   },
   "cell_type": "code",
   "source": "b",
   "id": "782fb4f249f6aa74",
   "outputs": [
    {
     "data": {
      "text/plain": [
       "[2, 3]"
      ]
     },
     "execution_count": 3,
     "metadata": {},
     "output_type": "execute_result"
    }
   ],
   "execution_count": 3
  },
  {
   "metadata": {
    "ExecuteTime": {
     "end_time": "2025-03-19T03:10:27.810644Z",
     "start_time": "2025-03-19T03:10:27.790939Z"
    }
   },
   "cell_type": "code",
   "source": "d = {'a':1 , 'b':2 , 'c':3}",
   "id": "179cad800d8c11b8",
   "outputs": [],
   "execution_count": 4
  },
  {
   "metadata": {
    "ExecuteTime": {
     "end_time": "2025-03-19T03:10:29.679951Z",
     "start_time": "2025-03-19T03:10:29.674395Z"
    }
   },
   "cell_type": "code",
   "source": "d",
   "id": "fb34cf5da2bdee58",
   "outputs": [
    {
     "data": {
      "text/plain": [
       "{'a': 1, 'b': 2, 'c': 3}"
      ]
     },
     "execution_count": 5,
     "metadata": {},
     "output_type": "execute_result"
    }
   ],
   "execution_count": 5
  },
  {
   "metadata": {
    "ExecuteTime": {
     "end_time": "2025-03-19T03:17:25.019026Z",
     "start_time": "2025-03-19T03:17:25.015343Z"
    }
   },
   "cell_type": "code",
   "source": "first_key,*d_keys = d",
   "id": "c017c68310708c2c",
   "outputs": [],
   "execution_count": 10
  },
  {
   "metadata": {},
   "cell_type": "code",
   "outputs": [],
   "execution_count": null,
   "source": "",
   "id": "669a0eace3e34c70"
  }
 ],
 "metadata": {
  "kernelspec": {
   "display_name": "Python 3",
   "language": "python",
   "name": "python3"
  },
  "language_info": {
   "codemirror_mode": {
    "name": "ipython",
    "version": 2
   },
   "file_extension": ".py",
   "mimetype": "text/x-python",
   "name": "python",
   "nbconvert_exporter": "python",
   "pygments_lexer": "ipython2",
   "version": "2.7.6"
  }
 },
 "nbformat": 4,
 "nbformat_minor": 5
}
