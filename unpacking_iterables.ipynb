{
 "cells": [
  {
   "cell_type": "code",
   "id": "initial_id",
   "metadata": {
    "collapsed": true,
    "ExecuteTime": {
     "end_time": "2025-03-18T02:05:26.345419Z",
     "start_time": "2025-03-18T02:05:26.330538Z"
    }
   },
   "source": "a, *b = [1, 2, 3]",
   "outputs": [],
   "execution_count": 1
  },
  {
   "metadata": {
    "ExecuteTime": {
     "end_time": "2025-03-18T02:05:26.419655Z",
     "start_time": "2025-03-18T02:05:26.392679Z"
    }
   },
   "cell_type": "code",
   "source": "a",
   "id": "dc5788e335b2b5b0",
   "outputs": [
    {
     "data": {
      "text/plain": [
       "1"
      ]
     },
     "execution_count": 2,
     "metadata": {},
     "output_type": "execute_result"
    }
   ],
   "execution_count": 2
  },
  {
   "metadata": {
    "ExecuteTime": {
     "end_time": "2025-03-18T02:05:26.916130Z",
     "start_time": "2025-03-18T02:05:26.905948Z"
    }
   },
   "cell_type": "code",
   "source": "b",
   "id": "782fb4f249f6aa74",
   "outputs": [
    {
     "data": {
      "text/plain": [
       "[2, 3]"
      ]
     },
     "execution_count": 3,
     "metadata": {},
     "output_type": "execute_result"
    }
   ],
   "execution_count": 3
  },
  {
   "metadata": {
    "ExecuteTime": {
     "end_time": "2025-03-19T03:10:27.810644Z",
     "start_time": "2025-03-19T03:10:27.790939Z"
    }
   },
   "cell_type": "code",
   "source": "d = {'a':1 , 'b':2 , 'c':3}",
   "id": "179cad800d8c11b8",
   "outputs": [],
   "execution_count": 4
  },
  {
   "metadata": {
    "ExecuteTime": {
     "end_time": "2025-03-19T03:10:29.679951Z",
     "start_time": "2025-03-19T03:10:29.674395Z"
    }
   },
   "cell_type": "code",
   "source": "d",
   "id": "fb34cf5da2bdee58",
   "outputs": [
    {
     "data": {
      "text/plain": [
       "{'a': 1, 'b': 2, 'c': 3}"
      ]
     },
     "execution_count": 5,
     "metadata": {},
     "output_type": "execute_result"
    }
   ],
   "execution_count": 5
  },
  {
   "metadata": {
    "ExecuteTime": {
     "end_time": "2025-03-19T03:17:25.019026Z",
     "start_time": "2025-03-19T03:17:25.015343Z"
    }
   },
   "cell_type": "code",
   "source": "first_key,*d_keys = d",
   "id": "c017c68310708c2c",
   "outputs": [],
   "execution_count": 10
  },
  {
   "metadata": {
    "ExecuteTime": {
     "end_time": "2025-03-22T02:24:16.013756Z",
     "start_time": "2025-03-22T02:24:16.002965Z"
    }
   },
   "cell_type": "code",
   "source": "",
   "id": "669a0eace3e34c70",
   "outputs": [],
   "execution_count": null
  },
  {
   "metadata": {},
   "cell_type": "markdown",
   "source": "# Unpacking dicts",
   "id": "88141f86a20be9c7"
  },
  {
   "metadata": {
    "ExecuteTime": {
     "end_time": "2025-03-22T02:27:21.067819Z",
     "start_time": "2025-03-22T02:27:21.056885Z"
    }
   },
   "cell_type": "code",
   "source": [
    "d1 = {'a':1, 'b':2, 'c':3}\n",
    "\n",
    "d2 = {'d':4, 'e':5, 'f':6}"
   ],
   "id": "4c4c236d5317538e",
   "outputs": [],
   "execution_count": 11
  },
  {
   "metadata": {
    "ExecuteTime": {
     "end_time": "2025-03-22T02:27:49.880164Z",
     "start_time": "2025-03-22T02:27:49.876101Z"
    }
   },
   "cell_type": "code",
   "source": "d3 = {**d1, **d2}",
   "id": "628bad46a97da371",
   "outputs": [],
   "execution_count": 13
  },
  {
   "metadata": {
    "ExecuteTime": {
     "end_time": "2025-03-22T02:27:51.904296Z",
     "start_time": "2025-03-22T02:27:51.898493Z"
    }
   },
   "cell_type": "code",
   "source": "d3",
   "id": "74ad39f652b8536b",
   "outputs": [
    {
     "data": {
      "text/plain": [
       "{'a': 1, 'b': 2, 'c': 3, 'd': 4, 'e': 5, 'f': 6}"
      ]
     },
     "execution_count": 14,
     "metadata": {},
     "output_type": "execute_result"
    }
   ],
   "execution_count": 14
  },
  {
   "metadata": {
    "ExecuteTime": {
     "end_time": "2025-03-24T01:21:25.397774Z",
     "start_time": "2025-03-24T01:21:25.391132Z"
    }
   },
   "cell_type": "code",
   "source": "# Unlike *, we can NOT use ** on the LHS of the assignments\n",
   "id": "3008b03c73f8d748",
   "outputs": [],
   "execution_count": 15
  },
  {
   "metadata": {},
   "cell_type": "code",
   "outputs": [],
   "execution_count": null,
   "source": "",
   "id": "7738b7beb2a906b6"
  },
  {
   "metadata": {},
   "cell_type": "markdown",
   "source": "# Positional args",
   "id": "c343b3640e274923"
  },
  {
   "metadata": {
    "ExecuteTime": {
     "end_time": "2025-03-24T01:27:37.660379Z",
     "start_time": "2025-03-24T01:27:37.654486Z"
    }
   },
   "cell_type": "code",
   "source": [
    "def f1(a, b, c):\n",
    "    print(f\"{a} {b} {c}\")\n",
    "\n",
    "f1(1,2,3)"
   ],
   "id": "47143f9083fe9000",
   "outputs": [
    {
     "name": "stdout",
     "output_type": "stream",
     "text": [
      "1 2 3\n"
     ]
    }
   ],
   "execution_count": 16
  },
  {
   "metadata": {
    "ExecuteTime": {
     "end_time": "2025-03-24T01:28:01.010934Z",
     "start_time": "2025-03-24T01:28:01.006614Z"
    }
   },
   "cell_type": "code",
   "source": [
    "# You can change the order - if you specify keywords for positional args\n",
    "\n",
    "f1(a=1,c=3,b=2)"
   ],
   "id": "aa0415bda39ceff0",
   "outputs": [
    {
     "name": "stdout",
     "output_type": "stream",
     "text": [
      "1 2 3\n"
     ]
    }
   ],
   "execution_count": 17
  },
  {
   "metadata": {
    "ExecuteTime": {
     "end_time": "2025-03-24T01:31:08.656172Z",
     "start_time": "2025-03-24T01:31:08.652331Z"
    }
   },
   "cell_type": "code",
   "source": [
    "# Mandating particular keyword args\n",
    "\n",
    "def f2(*args, b):\n",
    "    print(f\"{args}, {b}\")"
   ],
   "id": "353539db3d3354e9",
   "outputs": [],
   "execution_count": 21
  },
  {
   "metadata": {
    "ExecuteTime": {
     "end_time": "2025-03-24T01:31:09.115091Z",
     "start_time": "2025-03-24T01:31:09.096321Z"
    }
   },
   "cell_type": "code",
   "source": "f2(1,3,4,5)",
   "id": "8783a14074bcfae9",
   "outputs": [
    {
     "ename": "TypeError",
     "evalue": "f2() missing 1 required keyword-only argument: 'b'",
     "output_type": "error",
     "traceback": [
      "\u001B[0;31m---------------------------------------------------------------------------\u001B[0m",
      "\u001B[0;31mTypeError\u001B[0m                                 Traceback (most recent call last)",
      "Cell \u001B[0;32mIn[22], line 1\u001B[0m\n\u001B[0;32m----> 1\u001B[0m \u001B[43mf2\u001B[49m\u001B[43m(\u001B[49m\u001B[38;5;241;43m1\u001B[39;49m\u001B[43m,\u001B[49m\u001B[38;5;241;43m3\u001B[39;49m\u001B[43m,\u001B[49m\u001B[38;5;241;43m4\u001B[39;49m\u001B[43m,\u001B[49m\u001B[38;5;241;43m5\u001B[39;49m\u001B[43m)\u001B[49m\n",
      "\u001B[0;31mTypeError\u001B[0m: f2() missing 1 required keyword-only argument: 'b'"
     ]
    }
   ],
   "execution_count": 22
  },
  {
   "metadata": {
    "ExecuteTime": {
     "end_time": "2025-03-24T01:31:10.424443Z",
     "start_time": "2025-03-24T01:31:10.420511Z"
    }
   },
   "cell_type": "code",
   "source": "f2(1,3,4, b= 9)",
   "id": "856038751a578e18",
   "outputs": [
    {
     "name": "stdout",
     "output_type": "stream",
     "text": [
      "(1, 3, 4), 9\n"
     ]
    }
   ],
   "execution_count": 23
  },
  {
   "metadata": {
    "ExecuteTime": {
     "end_time": "2025-03-24T01:56:45.474031Z",
     "start_time": "2025-03-24T01:56:45.471026Z"
    }
   },
   "cell_type": "code",
   "source": "",
   "id": "3da2b43e34532587",
   "outputs": [],
   "execution_count": null
  },
  {
   "metadata": {
    "ExecuteTime": {
     "end_time": "2025-03-24T02:00:16.513373Z",
     "start_time": "2025-03-24T02:00:16.509897Z"
    }
   },
   "cell_type": "code",
   "source": [
    "# Make sure that there are NO positional args - ONLY keyword args\n",
    "\n",
    "def f3(*, b,c):\n",
    "    print(\"Inside f3\")"
   ],
   "id": "3aa9815700e97168",
   "outputs": [],
   "execution_count": 30
  },
  {
   "metadata": {
    "ExecuteTime": {
     "end_time": "2025-03-24T02:01:38.773135Z",
     "start_time": "2025-03-24T02:01:38.754125Z"
    }
   },
   "cell_type": "code",
   "source": "f3(1,2)",
   "id": "f995b9fe2db52f79",
   "outputs": [
    {
     "ename": "TypeError",
     "evalue": "f3() takes 0 positional arguments but 2 were given",
     "output_type": "error",
     "traceback": [
      "\u001B[0;31m---------------------------------------------------------------------------\u001B[0m",
      "\u001B[0;31mTypeError\u001B[0m                                 Traceback (most recent call last)",
      "Cell \u001B[0;32mIn[35], line 1\u001B[0m\n\u001B[0;32m----> 1\u001B[0m \u001B[43mf3\u001B[49m\u001B[43m(\u001B[49m\u001B[38;5;241;43m1\u001B[39;49m\u001B[43m,\u001B[49m\u001B[38;5;241;43m2\u001B[39;49m\u001B[43m)\u001B[49m\n",
      "\u001B[0;31mTypeError\u001B[0m: f3() takes 0 positional arguments but 2 were given"
     ]
    }
   ],
   "execution_count": 35
  },
  {
   "metadata": {},
   "cell_type": "code",
   "outputs": [],
   "execution_count": null,
   "source": "",
   "id": "42367e7a98bafacf"
  },
  {
   "metadata": {
    "ExecuteTime": {
     "end_time": "2025-03-24T02:02:01.276648Z",
     "start_time": "2025-03-24T02:02:01.256528Z"
    }
   },
   "cell_type": "code",
   "source": "f3(1,2,b=4, c=5)",
   "id": "e74df2d31c364693",
   "outputs": [
    {
     "ename": "TypeError",
     "evalue": "f3() takes 0 positional arguments but 2 positional arguments (and 2 keyword-only arguments) were given",
     "output_type": "error",
     "traceback": [
      "\u001B[0;31m---------------------------------------------------------------------------\u001B[0m",
      "\u001B[0;31mTypeError\u001B[0m                                 Traceback (most recent call last)",
      "Cell \u001B[0;32mIn[36], line 1\u001B[0m\n\u001B[0;32m----> 1\u001B[0m \u001B[43mf3\u001B[49m\u001B[43m(\u001B[49m\u001B[38;5;241;43m1\u001B[39;49m\u001B[43m,\u001B[49m\u001B[38;5;241;43m2\u001B[39;49m\u001B[43m,\u001B[49m\u001B[43mb\u001B[49m\u001B[38;5;241;43m=\u001B[39;49m\u001B[38;5;241;43m4\u001B[39;49m\u001B[43m,\u001B[49m\u001B[43m \u001B[49m\u001B[43mc\u001B[49m\u001B[38;5;241;43m=\u001B[39;49m\u001B[38;5;241;43m5\u001B[39;49m\u001B[43m)\u001B[49m\n",
      "\u001B[0;31mTypeError\u001B[0m: f3() takes 0 positional arguments but 2 positional arguments (and 2 keyword-only arguments) were given"
     ]
    }
   ],
   "execution_count": 36
  },
  {
   "metadata": {
    "ExecuteTime": {
     "end_time": "2025-03-24T02:03:26.803368Z",
     "start_time": "2025-03-24T02:03:26.798296Z"
    }
   },
   "cell_type": "code",
   "source": [
    "# As you can see this accepts ONLY keyword args\n",
    "f3(b=1, c=5)"
   ],
   "id": "eb2b9328de6f3e5a",
   "outputs": [
    {
     "name": "stdout",
     "output_type": "stream",
     "text": [
      "Inside f3\n"
     ]
    }
   ],
   "execution_count": 37
  },
  {
   "metadata": {},
   "cell_type": "code",
   "outputs": [],
   "execution_count": null,
   "source": "",
   "id": "968c070d9442b867"
  }
 ],
 "metadata": {
  "kernelspec": {
   "display_name": "Python 3",
   "language": "python",
   "name": "python3"
  },
  "language_info": {
   "codemirror_mode": {
    "name": "ipython",
    "version": 2
   },
   "file_extension": ".py",
   "mimetype": "text/x-python",
   "name": "python",
   "nbconvert_exporter": "python",
   "pygments_lexer": "ipython2",
   "version": "2.7.6"
  }
 },
 "nbformat": 4,
 "nbformat_minor": 5
}
